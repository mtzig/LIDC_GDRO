{
 "cells": [
  {
   "cell_type": "code",
   "execution_count": 2,
   "metadata": {},
   "outputs": [],
   "source": [
    "import pandas as pd\n",
    "import numpy as np  \n",
    "import scipy.stats as st\n"
   ]
  },
  {
   "cell_type": "code",
   "execution_count": 39,
   "metadata": {},
   "outputs": [],
   "source": [
    "feature_type = 'e2e' # 'designed'\n",
    "subgroup = 'spic' # 'malig' 'cluster'\n",
    "\n",
    "erm_data = []\n",
    "gdro_data = []\n",
    "for split in range(30):\n",
    "    df = pd.read_csv(f'../test_results/{feature_type}_30split_{subgroup}/accuracies_split_{split}.csv')\n",
    "    if feature_type == 'e2e':\n",
    "        df = df[df['epoch'] == 14]\n",
    "    else:\n",
    "        df = df[df['epoch'] == 99]\n",
    "\n",
    "    erm_data.append(np.mean(df[['ERMLoss']].values.reshape(100,5), axis=0))\n",
    "    gdro_data.append(np.mean(df[['GDROLoss']].values.reshape(100,5), axis=0))\n",
    "\n",
    "erm_data = np.stack(erm_data)\n",
    "gdro_data = np.stack(gdro_data)\n"
   ]
  },
  {
   "cell_type": "code",
   "execution_count": 40,
   "metadata": {},
   "outputs": [
    {
     "name": "stdout",
     "output_type": "stream",
     "text": [
      "For ERM, the accuracies are [0.83417719 0.89558088 0.77353734 0.81287727 0.68209748]\n",
      "For gDRO, the accuracies are [0.83379181 0.88352191 0.75406031 0.82736021 0.70910976]\n"
     ]
    }
   ],
   "source": [
    "print(f'For ERM, the accuracies are {np.mean(erm_data, axis=0)}')\n",
    "print(f'For gDRO, the accuracies are {np.mean(gdro_data, axis=0)}')\n"
   ]
  },
  {
   "cell_type": "code",
   "execution_count": 41,
   "metadata": {},
   "outputs": [
    {
     "name": "stdout",
     "output_type": "stream",
     "text": [
      "pvalue: 0.6633659731890849\n",
      "pvalue: 7.707951530655131e-10\n",
      "pvalue: 1.5062208130085186e-08\n",
      "pvalue: 1.2824300655282274e-06\n",
      "pvalue: 1.908173026488263e-12\n"
     ]
    }
   ],
   "source": [
    "for i in range(5):\n",
    "    print(f'pvalue: {st.ttest_rel(erm_data[:, i], gdro_data[:, i]).pvalue}')"
   ]
  },
  {
   "cell_type": "code",
   "execution_count": null,
   "metadata": {},
   "outputs": [],
   "source": []
  }
 ],
 "metadata": {
  "kernelspec": {
   "display_name": "modeling",
   "language": "python",
   "name": "python3"
  },
  "language_info": {
   "codemirror_mode": {
    "name": "ipython",
    "version": 3
   },
   "file_extension": ".py",
   "mimetype": "text/x-python",
   "name": "python",
   "nbconvert_exporter": "python",
   "pygments_lexer": "ipython3",
   "version": "3.10.6"
  },
  "orig_nbformat": 4,
  "vscode": {
   "interpreter": {
    "hash": "5b2bf8839c8b7e3b0267c83a672e30d98641bdaf266dcfa41890a490bc4f6828"
   }
  }
 },
 "nbformat": 4,
 "nbformat_minor": 2
}
