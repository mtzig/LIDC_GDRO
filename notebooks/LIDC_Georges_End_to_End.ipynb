{
 "cells": [
  {
   "cell_type": "markdown",
   "id": "421a2f03",
   "metadata": {
    "colab_type": "text",
    "id": "view-in-github"
   },
   "source": [
    "<a href=\"https://colab.research.google.com/github/mtzig/LIDC_GDRO/blob/main/notebooks/LIDC_Georges_End_to_End.ipynb\" target=\"_parent\"><img src=\"https://colab.research.google.com/assets/colab-badge.svg\" alt=\"Open In Colab\"/></a>"
   ]
  },
  {
   "cell_type": "markdown",
   "id": "48b41a21",
   "metadata": {
    "id": "48b41a21"
   },
   "source": [
    "#LIDC GDRO: Looking at Clustered Subgroups\n",
    "\n",
    "Thomas Zeng"
   ]
  },
  {
   "cell_type": "markdown",
   "id": "2275997b",
   "metadata": {
    "id": "2275997b"
   },
   "source": [
    "## Notebook Setup"
   ]
  },
  {
   "cell_type": "markdown",
   "id": "c69190e7",
   "metadata": {
    "id": "c69190e7"
   },
   "source": [
    "Setup autoreload extension"
   ]
  },
  {
   "cell_type": "code",
   "execution_count": 1,
   "id": "89996c23",
   "metadata": {
    "id": "89996c23"
   },
   "outputs": [],
   "source": [
    "%load_ext autoreload\n",
    "%autoreload 2"
   ]
  },
  {
   "cell_type": "markdown",
   "id": "c0aa3675",
   "metadata": {
    "id": "c0aa3675"
   },
   "source": [
    "Clone repo (if on colab)"
   ]
  },
  {
   "cell_type": "code",
   "execution_count": 4,
   "id": "5a993151",
   "metadata": {
    "colab": {
     "base_uri": "https://localhost:8080/"
    },
    "id": "5a993151",
    "outputId": "d817ed58-a43b-4fc8-be19-67b2042d0d23"
   },
   "outputs": [
    {
     "name": "stdout",
     "output_type": "stream",
     "text": [
      "/Users/tzeng/repos/LIDC_GDRO\n"
     ]
    }
   ],
   "source": [
    "# !git clone https://github.com/mtzig/LIDC_GDRO.git\n",
    "# %cd /content/LIDC_GDRO\n",
    "%cd .."
   ]
  },
  {
   "cell_type": "code",
   "execution_count": null,
   "id": "AAg-eYbtiLCU",
   "metadata": {
    "id": "AAg-eYbtiLCU"
   },
   "outputs": [],
   "source": [
    "# !git pull"
   ]
  },
  {
   "cell_type": "markdown",
   "id": "ffedab5f",
   "metadata": {
    "id": "ffedab5f"
   },
   "source": [
    "import necessary libraries"
   ]
  },
  {
   "cell_type": "code",
   "execution_count": 3,
   "id": "KAIKRQm8er5I",
   "metadata": {
    "colab": {
     "base_uri": "https://localhost:8080/"
    },
    "id": "KAIKRQm8er5I",
    "outputId": "fd6b21d0-89e3-4af1-f699-431d5a7b1193"
   },
   "outputs": [
    {
     "name": "stdout",
     "output_type": "stream",
     "text": [
      "Looking in indexes: https://pypi.org/simple, https://us-python.pkg.dev/colab-wheels/public/simple/\n",
      "Collecting umap-learn\n",
      "  Downloading umap-learn-0.5.3.tar.gz (88 kB)\n",
      "\u001b[K     |████████████████████████████████| 88 kB 4.3 MB/s \n",
      "\u001b[?25hRequirement already satisfied: numpy>=1.17 in /usr/local/lib/python3.7/dist-packages (from umap-learn) (1.21.6)\n",
      "Requirement already satisfied: scikit-learn>=0.22 in /usr/local/lib/python3.7/dist-packages (from umap-learn) (1.0.2)\n",
      "Requirement already satisfied: scipy>=1.0 in /usr/local/lib/python3.7/dist-packages (from umap-learn) (1.7.3)\n",
      "Requirement already satisfied: numba>=0.49 in /usr/local/lib/python3.7/dist-packages (from umap-learn) (0.56.0)\n",
      "Collecting pynndescent>=0.5\n",
      "  Downloading pynndescent-0.5.7.tar.gz (1.1 MB)\n",
      "\u001b[K     |████████████████████████████████| 1.1 MB 44.0 MB/s \n",
      "\u001b[?25hRequirement already satisfied: tqdm in /usr/local/lib/python3.7/dist-packages (from umap-learn) (4.64.0)\n",
      "Requirement already satisfied: setuptools in /usr/local/lib/python3.7/dist-packages (from numba>=0.49->umap-learn) (57.4.0)\n",
      "Requirement already satisfied: importlib-metadata in /usr/local/lib/python3.7/dist-packages (from numba>=0.49->umap-learn) (4.12.0)\n",
      "Requirement already satisfied: llvmlite<0.40,>=0.39.0dev0 in /usr/local/lib/python3.7/dist-packages (from numba>=0.49->umap-learn) (0.39.0)\n",
      "Requirement already satisfied: joblib>=0.11 in /usr/local/lib/python3.7/dist-packages (from pynndescent>=0.5->umap-learn) (1.1.0)\n",
      "Requirement already satisfied: threadpoolctl>=2.0.0 in /usr/local/lib/python3.7/dist-packages (from scikit-learn>=0.22->umap-learn) (3.1.0)\n",
      "Requirement already satisfied: zipp>=0.5 in /usr/local/lib/python3.7/dist-packages (from importlib-metadata->numba>=0.49->umap-learn) (3.8.1)\n",
      "Requirement already satisfied: typing-extensions>=3.6.4 in /usr/local/lib/python3.7/dist-packages (from importlib-metadata->numba>=0.49->umap-learn) (4.1.1)\n",
      "Building wheels for collected packages: umap-learn, pynndescent\n",
      "  Building wheel for umap-learn (setup.py) ... \u001b[?25l\u001b[?25hdone\n",
      "  Created wheel for umap-learn: filename=umap_learn-0.5.3-py3-none-any.whl size=82829 sha256=f9d6e9308ced059bb5d97ac823ffb81403608e97447d573263b15591124763f4\n",
      "  Stored in directory: /root/.cache/pip/wheels/b3/52/a5/1fd9e3e76a7ab34f134c07469cd6f16e27ef3a37aeff1fe821\n",
      "  Building wheel for pynndescent (setup.py) ... \u001b[?25l\u001b[?25hdone\n",
      "  Created wheel for pynndescent: filename=pynndescent-0.5.7-py3-none-any.whl size=54286 sha256=f0693ed5bdaee1b20f8489686122cd72ed0d308b002e15087e633f8ef3b4f87f\n",
      "  Stored in directory: /root/.cache/pip/wheels/7f/2a/f8/7bd5dcec71bd5c669f6f574db3113513696b98f3f9b51f496c\n",
      "Successfully built umap-learn pynndescent\n",
      "Installing collected packages: pynndescent, umap-learn\n",
      "Successfully installed pynndescent-0.5.7 umap-learn-0.5.3\n"
     ]
    }
   ],
   "source": [
    "!pip install umap-learn"
   ]
  },
  {
   "cell_type": "code",
   "execution_count": 5,
   "id": "179801e0",
   "metadata": {
    "id": "179801e0"
   },
   "outputs": [
    {
     "name": "stderr",
     "output_type": "stream",
     "text": [
      "/opt/anaconda3/envs/lidc/lib/python3.10/site-packages/tqdm/auto.py:22: TqdmWarning: IProgress not found. Please update jupyter and ipywidgets. See https://ipywidgets.readthedocs.io/en/stable/user_install.html\n",
      "  from .autonotebook import tqdm as notebook_tqdm\n"
     ]
    }
   ],
   "source": [
    "import pandas as pd\n",
    "import numpy as np\n",
    "from dataloaders import InfiniteDataLoader\n",
    "from datasets import SubclassedDataset\n",
    "from models import TransferModel18\n",
    "from train_eval import train, evaluate, train_epochs\n",
    "from torch.optim.lr_scheduler import ReduceLROnPlateau\n",
    "from loss import ERMLoss, GDROLoss \n",
    "import os\n",
    "# import torchvision\n",
    "from torchvision import transforms\n",
    "import torch\n",
    "from utils.image_data_utils import images_to_df, get_features, show_scatter, get_sampler_weights\n",
    "\n",
    "from umap import UMAP\n",
    "from matplotlib import pyplot as plt\n",
    "import pickle\n",
    "from sklearn.mixture import GaussianMixture\n",
    "from sklearn.metrics import silhouette_score"
   ]
  },
  {
   "cell_type": "markdown",
   "id": "82755e95",
   "metadata": {
    "id": "82755e95"
   },
   "source": [
    "Get available Device"
   ]
  },
  {
   "cell_type": "code",
   "execution_count": 17,
   "id": "927fcddf",
   "metadata": {
    "colab": {
     "base_uri": "https://localhost:8080/"
    },
    "id": "927fcddf",
    "outputId": "0c0cd70f-1ccf-4c8e-cb6c-c0ffc2caa939"
   },
   "outputs": [
    {
     "name": "stdout",
     "output_type": "stream",
     "text": [
      "Using cpu\n"
     ]
    }
   ],
   "source": [
    "if torch.cuda.is_available():\n",
    "    print(\"Good to go!\")\n",
    "    DEVICE = torch.device(\"cuda\")\n",
    "else:\n",
    "    print(\"Using cpu\")\n",
    "    DEVICE = torch.device(\"cpu\")"
   ]
  },
  {
   "cell_type": "markdown",
   "id": "49953b35",
   "metadata": {
    "id": "49953b35"
   },
   "source": [
    "## ERM Model: Training ERM model to extract CNN features"
   ]
  },
  {
   "cell_type": "markdown",
   "id": "539b89e0",
   "metadata": {
    "id": "539b89e0"
   },
   "source": [
    "### ERM Modeling"
   ]
  },
  {
   "cell_type": "markdown",
   "id": "2c01dc32",
   "metadata": {
    "id": "2c01dc32"
   },
   "source": [
    "Just for visulalization, the csv where we get the train, cv, test splits and subgroups come from below csv. "
   ]
  },
  {
   "cell_type": "code",
   "execution_count": 18,
   "id": "63061a76",
   "metadata": {
    "colab": {
     "base_uri": "https://localhost:8080/",
     "height": 206
    },
    "id": "63061a76",
    "outputId": "74090eb5-5fc5-4b9f-bec4-5aaf790ffeb4"
   },
   "outputs": [
    {
     "data": {
      "text/html": [
       "<div>\n",
       "<style scoped>\n",
       "    .dataframe tbody tr th:only-of-type {\n",
       "        vertical-align: middle;\n",
       "    }\n",
       "\n",
       "    .dataframe tbody tr th {\n",
       "        vertical-align: top;\n",
       "    }\n",
       "\n",
       "    .dataframe thead th {\n",
       "        text-align: right;\n",
       "    }\n",
       "</style>\n",
       "<table border=\"1\" class=\"dataframe\">\n",
       "  <thead>\n",
       "    <tr style=\"text-align: right;\">\n",
       "      <th></th>\n",
       "      <th>noduleID</th>\n",
       "      <th>split</th>\n",
       "      <th>malignancy</th>\n",
       "      <th>malignancy_b</th>\n",
       "      <th>spic_groups</th>\n",
       "    </tr>\n",
       "  </thead>\n",
       "  <tbody>\n",
       "    <tr>\n",
       "      <th>0</th>\n",
       "      <td>1</td>\n",
       "      <td>2</td>\n",
       "      <td>3</td>\n",
       "      <td>1</td>\n",
       "      <td>3</td>\n",
       "    </tr>\n",
       "    <tr>\n",
       "      <th>1</th>\n",
       "      <td>2</td>\n",
       "      <td>0</td>\n",
       "      <td>3</td>\n",
       "      <td>1</td>\n",
       "      <td>2</td>\n",
       "    </tr>\n",
       "    <tr>\n",
       "      <th>2</th>\n",
       "      <td>3</td>\n",
       "      <td>0</td>\n",
       "      <td>3</td>\n",
       "      <td>1</td>\n",
       "      <td>3</td>\n",
       "    </tr>\n",
       "    <tr>\n",
       "      <th>3</th>\n",
       "      <td>4</td>\n",
       "      <td>0</td>\n",
       "      <td>2</td>\n",
       "      <td>1</td>\n",
       "      <td>3</td>\n",
       "    </tr>\n",
       "    <tr>\n",
       "      <th>4</th>\n",
       "      <td>5</td>\n",
       "      <td>0</td>\n",
       "      <td>2</td>\n",
       "      <td>1</td>\n",
       "      <td>2</td>\n",
       "    </tr>\n",
       "  </tbody>\n",
       "</table>\n",
       "</div>"
      ],
      "text/plain": [
       "   noduleID  split  malignancy  malignancy_b  spic_groups\n",
       "0         1      2           3             1            3\n",
       "1         2      0           3             1            2\n",
       "2         3      0           3             1            3\n",
       "3         4      0           2             1            3\n",
       "4         5      0           2             1            2"
      ]
     },
     "execution_count": 18,
     "metadata": {},
     "output_type": "execute_result"
    }
   ],
   "source": [
    "df_splits = pd.read_csv('./data/train_test_splits/LIDC_data_split.csv', index_col=0)\n",
    "df_splits.head()"
   ]
  },
  {
   "cell_type": "markdown",
   "id": "PI2oC8EZbkVJ",
   "metadata": {
    "id": "PI2oC8EZbkVJ"
   },
   "source": [
    "First we get all image in a dataframe"
   ]
  },
  {
   "cell_type": "code",
   "execution_count": 19,
   "id": "t0y-F_7gcnwS",
   "metadata": {
    "id": "t0y-F_7gcnwS"
   },
   "outputs": [],
   "source": [
    "images_df = images_to_df()"
   ]
  },
  {
   "cell_type": "markdown",
   "id": "20ce5610",
   "metadata": {
    "id": "20ce5610"
   },
   "source": [
    "Next we load in the training data"
   ]
  },
  {
   "cell_type": "code",
   "execution_count": 20,
   "id": "705ab8fd",
   "metadata": {
    "colab": {
     "base_uri": "https://localhost:8080/"
    },
    "id": "705ab8fd",
    "outputId": "79759385-0ecf-4844-ddff-327e1141dc3d"
   },
   "outputs": [
    {
     "name": "stderr",
     "output_type": "stream",
     "text": [
      "/Users/tzeng/repos/LIDC_GDRO/utils/image_data_utils.py:220: SettingWithCopyWarning: \n",
      "A value is trying to be set on a copy of a slice from a DataFrame\n",
      "\n",
      "See the caveats in the documentation: https://pandas.pydata.org/pandas-docs/stable/user_guide/indexing.html#returning-a-view-versus-a-copy\n",
      "  df_features.sort_values('noduleID', inplace=True)\n",
      "/Users/tzeng/repos/LIDC_GDRO/utils/image_data_utils.py:223: SettingWithCopyWarning: \n",
      "A value is trying to be set on a copy of a slice from a DataFrame.\n",
      "Try using .loc[row_indexer,col_indexer] = value instead\n",
      "\n",
      "See the caveats in the documentation: https://pandas.pydata.org/pandas-docs/stable/user_guide/indexing.html#returning-a-view-versus-a-copy\n",
      "  df_features['clusters'] = df_subclass[subclass]\n",
      "/Users/tzeng/repos/LIDC_GDRO/utils/image_data_utils.py:224: SettingWithCopyWarning: \n",
      "A value is trying to be set on a copy of a slice from a DataFrame.\n",
      "Try using .loc[row_indexer,col_indexer] = value instead\n",
      "\n",
      "See the caveats in the documentation: https://pandas.pydata.org/pandas-docs/stable/user_guide/indexing.html#returning-a-view-versus-a-copy\n",
      "  df_features['malignancy_b'] = df_splits['malignancy_b']\n"
     ]
    }
   ],
   "source": [
    "train_data, cv_data, test_data = get_features(images=True, features=images_df, device=DEVICE, subclass='malignancy')\n",
    "\n",
    "#datasets\n",
    "tr = SubclassedDataset(*train_data)\n",
    "cv = SubclassedDataset(*cv_data)\n",
    "tst = SubclassedDataset(*test_data)\n",
    "\n",
    "#dataloaders\n",
    "tr_loader = InfiniteDataLoader(tr, batch_size=512)\n",
    "cv_loader = InfiniteDataLoader(cv, len(cv))\n",
    "tst_loader = InfiniteDataLoader(tst, len(tst))"
   ]
  },
  {
   "cell_type": "markdown",
   "id": "3e67bb4b",
   "metadata": {
    "id": "3e67bb4b"
   },
   "source": [
    "Next we initialize the model!"
   ]
  },
  {
   "cell_type": "code",
   "execution_count": 21,
   "id": "8e1d9ca0",
   "metadata": {
    "colab": {
     "base_uri": "https://localhost:8080/",
     "height": 67,
     "referenced_widgets": [
      "49be429f961a4fc99a6dc6a0ce1769bc",
      "670863c8f45c4263877c40d74b268829",
      "1b15448385224917a3af14b6ddb8bd56",
      "51173b3847d8445abd07cc51d838934a",
      "f34e0f0bd3514af18400a15dee3dd889",
      "191293883ba04ef1b213c587c6789458",
      "ee549bdfa6e14e4fab994ed09a9bb7f1",
      "e921ccbd962e4b449aae55f6da215387",
      "3612499724f34abaa102db0b95e71f3a",
      "7ec862e2df4f4fc7bfd961a36abc626d",
      "df603ae2560d4923bbd2d3af6c77fadb"
     ]
    },
    "id": "8e1d9ca0",
    "outputId": "1ea1569a-42a1-4504-bf43-401bbb1dbdba"
   },
   "outputs": [],
   "source": [
    "model = TransferModel18(device=DEVICE, pretrained=True, freeze=False)\n",
    "optimizer = torch.optim.Adam(model.parameters(), lr=0.0005, weight_decay=0.005)"
   ]
  },
  {
   "cell_type": "markdown",
   "id": "ea80e03e",
   "metadata": {
    "id": "ea80e03e"
   },
   "source": [
    "Now we train the model"
   ]
  },
  {
   "cell_type": "code",
   "execution_count": 22,
   "id": "71093588",
   "metadata": {
    "colab": {
     "base_uri": "https://localhost:8080/"
    },
    "id": "71093588",
    "outputId": "f36a5dd8-3775-4e85-9217-a799860c7698"
   },
   "outputs": [
    {
     "name": "stdout",
     "output_type": "stream",
     "text": [
      "Epoch 1 / 20\n",
      "Epoch 2 / 20\n",
      "Epoch 3 / 20\n",
      "Epoch 4 / 20\n",
      "Epoch 5 / 20\n",
      "Epoch 00005: reducing learning rate of group 0 to 1.0000e-04.\n",
      "Epoch 6 / 20\n",
      "Epoch 7 / 20\n",
      "Epoch 8 / 20\n",
      "Epoch 00008: reducing learning rate of group 0 to 2.0000e-05.\n",
      "Epoch 9 / 20\n",
      "Epoch 10 / 20\n",
      "Epoch 11 / 20\n",
      "Epoch 00011: reducing learning rate of group 0 to 4.0000e-06.\n",
      "Epoch 12 / 20\n",
      "Epoch 13 / 20\n",
      "Epoch 14 / 20\n",
      "Epoch 00014: reducing learning rate of group 0 to 8.0000e-07.\n",
      "Epoch 15 / 20\n",
      "Epoch 16 / 20\n",
      "Epoch 17 / 20\n",
      "Epoch 00017: reducing learning rate of group 0 to 1.6000e-07.\n",
      "Epoch 18 / 20\n",
      "Epoch 19 / 20\n",
      "Epoch 20 / 20\n",
      "Epoch 00020: reducing learning rate of group 0 to 3.2000e-08.\n"
     ]
    }
   ],
   "source": [
    "epochs = 20\n",
    "loss_fn = ERMLoss(model, torch.nn.CrossEntropyLoss())\n",
    "train_epochs(epochs, tr_loader, tst_loader, model, loss_fn, optimizer, scheduler=ReduceLROnPlateau(optimizer, mode='max', factor=0.2, patience=2, verbose=True), verbose=True, num_subclasses=4)"
   ]
  },
  {
   "cell_type": "code",
   "execution_count": 23,
   "id": "fc9ce04e",
   "metadata": {
    "colab": {
     "base_uri": "https://localhost:8080/"
    },
    "id": "fc9ce04e",
    "outputId": "b4cf8333-25b1-48df-fdb5-c846c7dda776"
   },
   "outputs": [
    {
     "name": "stdout",
     "output_type": "stream",
     "text": [
      "Accuracy: 0.8062283737024222 \n",
      "Accuracy over subgroups: [0.87301587 0.76237624 0.67164179 0.96551724] \n",
      "Worst Group Accuracy: 0.6716417910447762\n"
     ]
    },
    {
     "data": {
      "text/plain": [
       "(0.8062283737024222,\n",
       " 0.873015873015873,\n",
       " 0.7623762376237624,\n",
       " 0.6716417910447762,\n",
       " 0.9655172413793104)"
      ]
     },
     "execution_count": 23,
     "metadata": {},
     "output_type": "execute_result"
    }
   ],
   "source": [
    "evaluate(tst_loader,model, 4, verbose=True)"
   ]
  },
  {
   "cell_type": "markdown",
   "id": "ec354ef2",
   "metadata": {
    "id": "ec354ef2"
   },
   "source": [
    "### Feature Extraction"
   ]
  },
  {
   "cell_type": "markdown",
   "id": "0c7cc857",
   "metadata": {
    "id": "0c7cc857"
   },
   "source": [
    "We first save model weights (for reproducibility)"
   ]
  },
  {
   "cell_type": "code",
   "execution_count": 12,
   "id": "fd8d09a9",
   "metadata": {
    "id": "fd8d09a9"
   },
   "outputs": [],
   "source": [
    " torch.save(model.state_dict(), './data/erm_cluster_weights.pt')"
   ]
  },
  {
   "cell_type": "markdown",
   "id": "8e8f3145",
   "metadata": {
    "id": "8e8f3145"
   },
   "source": [
    "Next we add hooks to let us get activations"
   ]
  },
  {
   "cell_type": "code",
   "execution_count": 24,
   "id": "66a8a339",
   "metadata": {
    "colab": {
     "base_uri": "https://localhost:8080/"
    },
    "id": "66a8a339",
    "outputId": "0b5bbbf2-98cb-4961-e5e2-52cfcefd95c6"
   },
   "outputs": [
    {
     "data": {
      "text/plain": [
       "<torch.utils.hooks.RemovableHandle at 0x179281030>"
      ]
     },
     "execution_count": 24,
     "metadata": {},
     "output_type": "execute_result"
    }
   ],
   "source": [
    "activation = {}\n",
    "def get_activation(name):\n",
    "    def hook(model, input, output):\n",
    "        activation[name] = output.detach()\n",
    "    return hook\n",
    "model.model.avgpool.register_forward_hook(get_activation('avgpool'))"
   ]
  },
  {
   "cell_type": "markdown",
   "id": "5ede3962",
   "metadata": {
    "id": "5ede3962"
   },
   "source": [
    "We re get the data, but in its entirety with the noduleID"
   ]
  },
  {
   "cell_type": "code",
   "execution_count": 25,
   "id": "9c03c43d",
   "metadata": {
    "id": "9c03c43d"
   },
   "outputs": [],
   "source": [
    "noduleID, data = images_df['noduleID'], torch.stack(list(images_df['image'])).to(DEVICE)"
   ]
  },
  {
   "cell_type": "markdown",
   "id": "a10032b2",
   "metadata": {
    "id": "a10032b2"
   },
   "source": [
    "Now we extract features"
   ]
  },
  {
   "cell_type": "code",
   "execution_count": 26,
   "id": "2ff5e0d6",
   "metadata": {
    "id": "2ff5e0d6"
   },
   "outputs": [],
   "source": [
    "model(data)\n",
    "img_features = activation['avgpool'].squeeze()"
   ]
  },
  {
   "cell_type": "markdown",
   "id": "63226cd7",
   "metadata": {
    "id": "63226cd7"
   },
   "source": [
    "We collect all the features in a dataframe"
   ]
  },
  {
   "cell_type": "code",
   "execution_count": 27,
   "id": "f39cf983",
   "metadata": {
    "colab": {
     "base_uri": "https://localhost:8080/",
     "height": 0
    },
    "id": "f39cf983",
    "outputId": "0b29e8e3-8da0-4854-cc41-0360a8966a67"
   },
   "outputs": [
    {
     "data": {
      "text/html": [
       "<div>\n",
       "<style scoped>\n",
       "    .dataframe tbody tr th:only-of-type {\n",
       "        vertical-align: middle;\n",
       "    }\n",
       "\n",
       "    .dataframe tbody tr th {\n",
       "        vertical-align: top;\n",
       "    }\n",
       "\n",
       "    .dataframe thead th {\n",
       "        text-align: right;\n",
       "    }\n",
       "</style>\n",
       "<table border=\"1\" class=\"dataframe\">\n",
       "  <thead>\n",
       "    <tr style=\"text-align: right;\">\n",
       "      <th></th>\n",
       "      <th>noduleID</th>\n",
       "      <th>1</th>\n",
       "      <th>2</th>\n",
       "      <th>3</th>\n",
       "      <th>4</th>\n",
       "      <th>5</th>\n",
       "      <th>6</th>\n",
       "      <th>7</th>\n",
       "      <th>8</th>\n",
       "      <th>9</th>\n",
       "      <th>...</th>\n",
       "      <th>503</th>\n",
       "      <th>504</th>\n",
       "      <th>505</th>\n",
       "      <th>506</th>\n",
       "      <th>507</th>\n",
       "      <th>508</th>\n",
       "      <th>509</th>\n",
       "      <th>510</th>\n",
       "      <th>511</th>\n",
       "      <th>512</th>\n",
       "    </tr>\n",
       "  </thead>\n",
       "  <tbody>\n",
       "    <tr>\n",
       "      <th>0</th>\n",
       "      <td>1</td>\n",
       "      <td>1.368428</td>\n",
       "      <td>4.680252</td>\n",
       "      <td>2.196423</td>\n",
       "      <td>0.752512</td>\n",
       "      <td>0.061288</td>\n",
       "      <td>0.000000</td>\n",
       "      <td>1.352349</td>\n",
       "      <td>0.00000</td>\n",
       "      <td>2.122473</td>\n",
       "      <td>...</td>\n",
       "      <td>3.317045</td>\n",
       "      <td>2.662699</td>\n",
       "      <td>0.000000</td>\n",
       "      <td>2.997682</td>\n",
       "      <td>2.771254</td>\n",
       "      <td>0.000000</td>\n",
       "      <td>0.230121</td>\n",
       "      <td>1.507215</td>\n",
       "      <td>0.000000</td>\n",
       "      <td>0.000000</td>\n",
       "    </tr>\n",
       "    <tr>\n",
       "      <th>1</th>\n",
       "      <td>2</td>\n",
       "      <td>0.000000</td>\n",
       "      <td>0.337984</td>\n",
       "      <td>0.798023</td>\n",
       "      <td>1.615990</td>\n",
       "      <td>0.000000</td>\n",
       "      <td>0.000000</td>\n",
       "      <td>1.723312</td>\n",
       "      <td>0.08316</td>\n",
       "      <td>0.290699</td>\n",
       "      <td>...</td>\n",
       "      <td>0.638624</td>\n",
       "      <td>0.390121</td>\n",
       "      <td>0.000000</td>\n",
       "      <td>0.467538</td>\n",
       "      <td>0.345242</td>\n",
       "      <td>0.061486</td>\n",
       "      <td>0.739407</td>\n",
       "      <td>0.000000</td>\n",
       "      <td>0.000000</td>\n",
       "      <td>0.009316</td>\n",
       "    </tr>\n",
       "    <tr>\n",
       "      <th>2</th>\n",
       "      <td>3</td>\n",
       "      <td>0.918711</td>\n",
       "      <td>3.636042</td>\n",
       "      <td>0.664772</td>\n",
       "      <td>0.297653</td>\n",
       "      <td>0.235088</td>\n",
       "      <td>0.000000</td>\n",
       "      <td>0.356949</td>\n",
       "      <td>0.00000</td>\n",
       "      <td>0.659534</td>\n",
       "      <td>...</td>\n",
       "      <td>0.345284</td>\n",
       "      <td>2.874331</td>\n",
       "      <td>0.000000</td>\n",
       "      <td>1.347042</td>\n",
       "      <td>0.055167</td>\n",
       "      <td>0.088298</td>\n",
       "      <td>0.837596</td>\n",
       "      <td>0.000000</td>\n",
       "      <td>0.000000</td>\n",
       "      <td>0.000000</td>\n",
       "    </tr>\n",
       "    <tr>\n",
       "      <th>3</th>\n",
       "      <td>4</td>\n",
       "      <td>0.024539</td>\n",
       "      <td>0.443052</td>\n",
       "      <td>0.067517</td>\n",
       "      <td>0.278737</td>\n",
       "      <td>0.000000</td>\n",
       "      <td>0.000000</td>\n",
       "      <td>0.158542</td>\n",
       "      <td>0.00000</td>\n",
       "      <td>0.066659</td>\n",
       "      <td>...</td>\n",
       "      <td>0.883985</td>\n",
       "      <td>0.800256</td>\n",
       "      <td>0.000000</td>\n",
       "      <td>1.625517</td>\n",
       "      <td>0.004321</td>\n",
       "      <td>0.016921</td>\n",
       "      <td>0.000000</td>\n",
       "      <td>0.000000</td>\n",
       "      <td>0.005837</td>\n",
       "      <td>0.000000</td>\n",
       "    </tr>\n",
       "    <tr>\n",
       "      <th>4</th>\n",
       "      <td>5</td>\n",
       "      <td>0.063545</td>\n",
       "      <td>0.741536</td>\n",
       "      <td>1.244969</td>\n",
       "      <td>1.231950</td>\n",
       "      <td>0.000000</td>\n",
       "      <td>0.215834</td>\n",
       "      <td>0.147023</td>\n",
       "      <td>0.00000</td>\n",
       "      <td>0.033811</td>\n",
       "      <td>...</td>\n",
       "      <td>0.695990</td>\n",
       "      <td>0.286909</td>\n",
       "      <td>0.143003</td>\n",
       "      <td>0.142017</td>\n",
       "      <td>0.000000</td>\n",
       "      <td>0.027170</td>\n",
       "      <td>1.806107</td>\n",
       "      <td>0.000000</td>\n",
       "      <td>0.102888</td>\n",
       "      <td>0.426442</td>\n",
       "    </tr>\n",
       "  </tbody>\n",
       "</table>\n",
       "<p>5 rows × 513 columns</p>\n",
       "</div>"
      ],
      "text/plain": [
       "   noduleID         1         2         3         4         5         6  \\\n",
       "0         1  1.368428  4.680252  2.196423  0.752512  0.061288  0.000000   \n",
       "1         2  0.000000  0.337984  0.798023  1.615990  0.000000  0.000000   \n",
       "2         3  0.918711  3.636042  0.664772  0.297653  0.235088  0.000000   \n",
       "3         4  0.024539  0.443052  0.067517  0.278737  0.000000  0.000000   \n",
       "4         5  0.063545  0.741536  1.244969  1.231950  0.000000  0.215834   \n",
       "\n",
       "          7        8         9  ...       503       504       505       506  \\\n",
       "0  1.352349  0.00000  2.122473  ...  3.317045  2.662699  0.000000  2.997682   \n",
       "1  1.723312  0.08316  0.290699  ...  0.638624  0.390121  0.000000  0.467538   \n",
       "2  0.356949  0.00000  0.659534  ...  0.345284  2.874331  0.000000  1.347042   \n",
       "3  0.158542  0.00000  0.066659  ...  0.883985  0.800256  0.000000  1.625517   \n",
       "4  0.147023  0.00000  0.033811  ...  0.695990  0.286909  0.143003  0.142017   \n",
       "\n",
       "        507       508       509       510       511       512  \n",
       "0  2.771254  0.000000  0.230121  1.507215  0.000000  0.000000  \n",
       "1  0.345242  0.061486  0.739407  0.000000  0.000000  0.009316  \n",
       "2  0.055167  0.088298  0.837596  0.000000  0.000000  0.000000  \n",
       "3  0.004321  0.016921  0.000000  0.000000  0.005837  0.000000  \n",
       "4  0.000000  0.027170  1.806107  0.000000  0.102888  0.426442  \n",
       "\n",
       "[5 rows x 513 columns]"
      ]
     },
     "execution_count": 27,
     "metadata": {},
     "output_type": "execute_result"
    }
   ],
   "source": [
    "cols = []\n",
    "for idx,id in enumerate(noduleID):\n",
    "  cols.append([id] + img_features[idx].cpu().numpy().tolist())\n",
    "df_features_all = pd.DataFrame(cols).rename({0:'noduleID'}, axis=1)\n",
    "df_features_all.sort_values('noduleID', inplace=True)\n",
    "df_features_all.reset_index(drop=True, inplace=True)\n",
    "df_features_all.head()"
   ]
  },
  {
   "cell_type": "markdown",
   "id": "dff4045d",
   "metadata": {
    "id": "dff4045d"
   },
   "source": [
    "We again save the data for reproducibility"
   ]
  },
  {
   "cell_type": "code",
   "execution_count": 28,
   "id": "baffd36c",
   "metadata": {
    "id": "baffd36c"
   },
   "outputs": [],
   "source": [
    "df_features_all.to_csv('./data/erm_cluster_cnn_features.csv')"
   ]
  },
  {
   "cell_type": "code",
   "execution_count": 29,
   "id": "5uoNBVaygtKm",
   "metadata": {
    "colab": {
     "base_uri": "https://localhost:8080/",
     "height": 0
    },
    "id": "5uoNBVaygtKm",
    "outputId": "cd4b1f00-2140-4460-9aeb-dc6846c1b59c"
   },
   "outputs": [
    {
     "name": "stderr",
     "output_type": "stream",
     "text": [
      "/var/folders/p4/6w4_54rj1ml833wphj6gyr140000gn/T/ipykernel_16757/3341297694.py:2: SettingWithCopyWarning: \n",
      "A value is trying to be set on a copy of a slice from a DataFrame\n",
      "\n",
      "See the caveats in the documentation: https://pandas.pydata.org/pandas-docs/stable/user_guide/indexing.html#returning-a-view-versus-a-copy\n",
      "  df_features.sort_values('noduleID', inplace=True)\n",
      "/var/folders/p4/6w4_54rj1ml833wphj6gyr140000gn/T/ipykernel_16757/3341297694.py:5: SettingWithCopyWarning: \n",
      "A value is trying to be set on a copy of a slice from a DataFrame.\n",
      "Try using .loc[row_indexer,col_indexer] = value instead\n",
      "\n",
      "See the caveats in the documentation: https://pandas.pydata.org/pandas-docs/stable/user_guide/indexing.html#returning-a-view-versus-a-copy\n",
      "  df_features['split'] = df_splits['split']\n",
      "/var/folders/p4/6w4_54rj1ml833wphj6gyr140000gn/T/ipykernel_16757/3341297694.py:6: SettingWithCopyWarning: \n",
      "A value is trying to be set on a copy of a slice from a DataFrame.\n",
      "Try using .loc[row_indexer,col_indexer] = value instead\n",
      "\n",
      "See the caveats in the documentation: https://pandas.pydata.org/pandas-docs/stable/user_guide/indexing.html#returning-a-view-versus-a-copy\n",
      "  df_features['malignancy'] = df_splits['malignancy']\n"
     ]
    },
    {
     "data": {
      "text/html": [
       "<div>\n",
       "<style scoped>\n",
       "    .dataframe tbody tr th:only-of-type {\n",
       "        vertical-align: middle;\n",
       "    }\n",
       "\n",
       "    .dataframe tbody tr th {\n",
       "        vertical-align: top;\n",
       "    }\n",
       "\n",
       "    .dataframe thead th {\n",
       "        text-align: right;\n",
       "    }\n",
       "</style>\n",
       "<table border=\"1\" class=\"dataframe\">\n",
       "  <thead>\n",
       "    <tr style=\"text-align: right;\">\n",
       "      <th></th>\n",
       "      <th>noduleID</th>\n",
       "      <th>1</th>\n",
       "      <th>2</th>\n",
       "      <th>3</th>\n",
       "      <th>4</th>\n",
       "      <th>5</th>\n",
       "      <th>6</th>\n",
       "      <th>7</th>\n",
       "      <th>8</th>\n",
       "      <th>9</th>\n",
       "      <th>...</th>\n",
       "      <th>505</th>\n",
       "      <th>506</th>\n",
       "      <th>507</th>\n",
       "      <th>508</th>\n",
       "      <th>509</th>\n",
       "      <th>510</th>\n",
       "      <th>511</th>\n",
       "      <th>512</th>\n",
       "      <th>split</th>\n",
       "      <th>malignancy</th>\n",
       "    </tr>\n",
       "  </thead>\n",
       "  <tbody>\n",
       "    <tr>\n",
       "      <th>0</th>\n",
       "      <td>1</td>\n",
       "      <td>1.368428</td>\n",
       "      <td>4.680252</td>\n",
       "      <td>2.196423</td>\n",
       "      <td>0.752512</td>\n",
       "      <td>0.061288</td>\n",
       "      <td>0.000000</td>\n",
       "      <td>1.352349</td>\n",
       "      <td>0.00000</td>\n",
       "      <td>2.122473</td>\n",
       "      <td>...</td>\n",
       "      <td>0.000000</td>\n",
       "      <td>2.997682</td>\n",
       "      <td>2.771254</td>\n",
       "      <td>0.000000</td>\n",
       "      <td>0.230121</td>\n",
       "      <td>1.507215</td>\n",
       "      <td>0.000000</td>\n",
       "      <td>0.000000</td>\n",
       "      <td>2</td>\n",
       "      <td>3</td>\n",
       "    </tr>\n",
       "    <tr>\n",
       "      <th>1</th>\n",
       "      <td>2</td>\n",
       "      <td>0.000000</td>\n",
       "      <td>0.337984</td>\n",
       "      <td>0.798023</td>\n",
       "      <td>1.615990</td>\n",
       "      <td>0.000000</td>\n",
       "      <td>0.000000</td>\n",
       "      <td>1.723312</td>\n",
       "      <td>0.08316</td>\n",
       "      <td>0.290699</td>\n",
       "      <td>...</td>\n",
       "      <td>0.000000</td>\n",
       "      <td>0.467538</td>\n",
       "      <td>0.345242</td>\n",
       "      <td>0.061486</td>\n",
       "      <td>0.739407</td>\n",
       "      <td>0.000000</td>\n",
       "      <td>0.000000</td>\n",
       "      <td>0.009316</td>\n",
       "      <td>0</td>\n",
       "      <td>3</td>\n",
       "    </tr>\n",
       "    <tr>\n",
       "      <th>2</th>\n",
       "      <td>3</td>\n",
       "      <td>0.918711</td>\n",
       "      <td>3.636042</td>\n",
       "      <td>0.664772</td>\n",
       "      <td>0.297653</td>\n",
       "      <td>0.235088</td>\n",
       "      <td>0.000000</td>\n",
       "      <td>0.356949</td>\n",
       "      <td>0.00000</td>\n",
       "      <td>0.659534</td>\n",
       "      <td>...</td>\n",
       "      <td>0.000000</td>\n",
       "      <td>1.347042</td>\n",
       "      <td>0.055167</td>\n",
       "      <td>0.088298</td>\n",
       "      <td>0.837596</td>\n",
       "      <td>0.000000</td>\n",
       "      <td>0.000000</td>\n",
       "      <td>0.000000</td>\n",
       "      <td>0</td>\n",
       "      <td>3</td>\n",
       "    </tr>\n",
       "    <tr>\n",
       "      <th>3</th>\n",
       "      <td>4</td>\n",
       "      <td>0.024539</td>\n",
       "      <td>0.443052</td>\n",
       "      <td>0.067517</td>\n",
       "      <td>0.278737</td>\n",
       "      <td>0.000000</td>\n",
       "      <td>0.000000</td>\n",
       "      <td>0.158542</td>\n",
       "      <td>0.00000</td>\n",
       "      <td>0.066659</td>\n",
       "      <td>...</td>\n",
       "      <td>0.000000</td>\n",
       "      <td>1.625517</td>\n",
       "      <td>0.004321</td>\n",
       "      <td>0.016921</td>\n",
       "      <td>0.000000</td>\n",
       "      <td>0.000000</td>\n",
       "      <td>0.005837</td>\n",
       "      <td>0.000000</td>\n",
       "      <td>0</td>\n",
       "      <td>2</td>\n",
       "    </tr>\n",
       "    <tr>\n",
       "      <th>4</th>\n",
       "      <td>5</td>\n",
       "      <td>0.063545</td>\n",
       "      <td>0.741536</td>\n",
       "      <td>1.244969</td>\n",
       "      <td>1.231950</td>\n",
       "      <td>0.000000</td>\n",
       "      <td>0.215834</td>\n",
       "      <td>0.147023</td>\n",
       "      <td>0.00000</td>\n",
       "      <td>0.033811</td>\n",
       "      <td>...</td>\n",
       "      <td>0.143003</td>\n",
       "      <td>0.142017</td>\n",
       "      <td>0.000000</td>\n",
       "      <td>0.027170</td>\n",
       "      <td>1.806107</td>\n",
       "      <td>0.000000</td>\n",
       "      <td>0.102888</td>\n",
       "      <td>0.426442</td>\n",
       "      <td>0</td>\n",
       "      <td>2</td>\n",
       "    </tr>\n",
       "  </tbody>\n",
       "</table>\n",
       "<p>5 rows × 515 columns</p>\n",
       "</div>"
      ],
      "text/plain": [
       "   noduleID         1         2         3         4         5         6  \\\n",
       "0         1  1.368428  4.680252  2.196423  0.752512  0.061288  0.000000   \n",
       "1         2  0.000000  0.337984  0.798023  1.615990  0.000000  0.000000   \n",
       "2         3  0.918711  3.636042  0.664772  0.297653  0.235088  0.000000   \n",
       "3         4  0.024539  0.443052  0.067517  0.278737  0.000000  0.000000   \n",
       "4         5  0.063545  0.741536  1.244969  1.231950  0.000000  0.215834   \n",
       "\n",
       "          7        8         9  ...       505       506       507       508  \\\n",
       "0  1.352349  0.00000  2.122473  ...  0.000000  2.997682  2.771254  0.000000   \n",
       "1  1.723312  0.08316  0.290699  ...  0.000000  0.467538  0.345242  0.061486   \n",
       "2  0.356949  0.00000  0.659534  ...  0.000000  1.347042  0.055167  0.088298   \n",
       "3  0.158542  0.00000  0.066659  ...  0.000000  1.625517  0.004321  0.016921   \n",
       "4  0.147023  0.00000  0.033811  ...  0.143003  0.142017  0.000000  0.027170   \n",
       "\n",
       "        509       510       511       512  split  malignancy  \n",
       "0  0.230121  1.507215  0.000000  0.000000      2           3  \n",
       "1  0.739407  0.000000  0.000000  0.009316      0           3  \n",
       "2  0.837596  0.000000  0.000000  0.000000      0           3  \n",
       "3  0.000000  0.000000  0.005837  0.000000      0           2  \n",
       "4  1.806107  0.000000  0.102888  0.426442      0           2  \n",
       "\n",
       "[5 rows x 515 columns]"
      ]
     },
     "execution_count": 29,
     "metadata": {},
     "output_type": "execute_result"
    }
   ],
   "source": [
    "df_features = df_features_all[df_features_all['noduleID'].isin(df_splits['noduleID'])]\n",
    "df_features.sort_values('noduleID', inplace=True)\n",
    "df_features.reset_index(drop=True, inplace=True)\n",
    "\n",
    "df_features['split'] = df_splits['split']\n",
    "df_features['malignancy'] = df_splits['malignancy']\n",
    "\n",
    "df_features.head()"
   ]
  },
  {
   "cell_type": "markdown",
   "id": "f01fe687",
   "metadata": {
    "id": "f01fe687"
   },
   "source": [
    "## Feature Reduce and Cluster"
   ]
  },
  {
   "cell_type": "markdown",
   "id": "f4ca88b0",
   "metadata": {
    "id": "f4ca88b0"
   },
   "source": [
    "### Feature Reduce"
   ]
  },
  {
   "cell_type": "markdown",
   "id": "ade3caf3",
   "metadata": {
    "id": "ade3caf3"
   },
   "source": [
    "First we split df into two by the splits"
   ]
  },
  {
   "cell_type": "code",
   "execution_count": 30,
   "id": "6e8d89fc",
   "metadata": {
    "id": "6e8d89fc"
   },
   "outputs": [],
   "source": [
    "df_features_train = df_features[df_features['split'] == 0]\n",
    "df_features_cv_test = df_features[df_features['split'] != 0]\n"
   ]
  },
  {
   "cell_type": "markdown",
   "id": "916d56c4",
   "metadata": {
    "id": "916d56c4"
   },
   "source": [
    "Next we get the features in an array"
   ]
  },
  {
   "cell_type": "code",
   "execution_count": 31,
   "id": "6929144a",
   "metadata": {
    "id": "6929144a"
   },
   "outputs": [],
   "source": [
    "train_features = df_features_train.drop(['noduleID', 'split', 'malignancy'], axis=1).values\n",
    "cv_test_features = df_features_cv_test.drop(['noduleID', 'split', 'malignancy'], axis=1).values\n",
    "\n",
    "all_features = df_features_all.drop(['noduleID'], axis=1).values"
   ]
  },
  {
   "cell_type": "markdown",
   "id": "3af995b2",
   "metadata": {
    "id": "3af995b2"
   },
   "source": [
    "Following the George paper, we use UMAP to dimensionaly reduce our data"
   ]
  },
  {
   "cell_type": "code",
   "execution_count": 32,
   "id": "a73c3b33",
   "metadata": {
    "colab": {
     "base_uri": "https://localhost:8080/"
    },
    "id": "a73c3b33",
    "outputId": "82e745a4-6d4b-4d4a-bc98-b80fb60df0f4"
   },
   "outputs": [
    {
     "data": {
      "text/html": [
       "<style>#sk-container-id-1 {color: black;background-color: white;}#sk-container-id-1 pre{padding: 0;}#sk-container-id-1 div.sk-toggleable {background-color: white;}#sk-container-id-1 label.sk-toggleable__label {cursor: pointer;display: block;width: 100%;margin-bottom: 0;padding: 0.3em;box-sizing: border-box;text-align: center;}#sk-container-id-1 label.sk-toggleable__label-arrow:before {content: \"▸\";float: left;margin-right: 0.25em;color: #696969;}#sk-container-id-1 label.sk-toggleable__label-arrow:hover:before {color: black;}#sk-container-id-1 div.sk-estimator:hover label.sk-toggleable__label-arrow:before {color: black;}#sk-container-id-1 div.sk-toggleable__content {max-height: 0;max-width: 0;overflow: hidden;text-align: left;background-color: #f0f8ff;}#sk-container-id-1 div.sk-toggleable__content pre {margin: 0.2em;color: black;border-radius: 0.25em;background-color: #f0f8ff;}#sk-container-id-1 input.sk-toggleable__control:checked~div.sk-toggleable__content {max-height: 200px;max-width: 100%;overflow: auto;}#sk-container-id-1 input.sk-toggleable__control:checked~label.sk-toggleable__label-arrow:before {content: \"▾\";}#sk-container-id-1 div.sk-estimator input.sk-toggleable__control:checked~label.sk-toggleable__label {background-color: #d4ebff;}#sk-container-id-1 div.sk-label input.sk-toggleable__control:checked~label.sk-toggleable__label {background-color: #d4ebff;}#sk-container-id-1 input.sk-hidden--visually {border: 0;clip: rect(1px 1px 1px 1px);clip: rect(1px, 1px, 1px, 1px);height: 1px;margin: -1px;overflow: hidden;padding: 0;position: absolute;width: 1px;}#sk-container-id-1 div.sk-estimator {font-family: monospace;background-color: #f0f8ff;border: 1px dotted black;border-radius: 0.25em;box-sizing: border-box;margin-bottom: 0.5em;}#sk-container-id-1 div.sk-estimator:hover {background-color: #d4ebff;}#sk-container-id-1 div.sk-parallel-item::after {content: \"\";width: 100%;border-bottom: 1px solid gray;flex-grow: 1;}#sk-container-id-1 div.sk-label:hover label.sk-toggleable__label {background-color: #d4ebff;}#sk-container-id-1 div.sk-serial::before {content: \"\";position: absolute;border-left: 1px solid gray;box-sizing: border-box;top: 0;bottom: 0;left: 50%;z-index: 0;}#sk-container-id-1 div.sk-serial {display: flex;flex-direction: column;align-items: center;background-color: white;padding-right: 0.2em;padding-left: 0.2em;position: relative;}#sk-container-id-1 div.sk-item {position: relative;z-index: 1;}#sk-container-id-1 div.sk-parallel {display: flex;align-items: stretch;justify-content: center;background-color: white;position: relative;}#sk-container-id-1 div.sk-item::before, #sk-container-id-1 div.sk-parallel-item::before {content: \"\";position: absolute;border-left: 1px solid gray;box-sizing: border-box;top: 0;bottom: 0;left: 50%;z-index: -1;}#sk-container-id-1 div.sk-parallel-item {display: flex;flex-direction: column;z-index: 1;position: relative;background-color: white;}#sk-container-id-1 div.sk-parallel-item:first-child::after {align-self: flex-end;width: 50%;}#sk-container-id-1 div.sk-parallel-item:last-child::after {align-self: flex-start;width: 50%;}#sk-container-id-1 div.sk-parallel-item:only-child::after {width: 0;}#sk-container-id-1 div.sk-dashed-wrapped {border: 1px dashed gray;margin: 0 0.4em 0.5em 0.4em;box-sizing: border-box;padding-bottom: 0.4em;background-color: white;}#sk-container-id-1 div.sk-label label {font-family: monospace;font-weight: bold;display: inline-block;line-height: 1.2em;}#sk-container-id-1 div.sk-label-container {text-align: center;}#sk-container-id-1 div.sk-container {/* jupyter's `normalize.less` sets `[hidden] { display: none; }` but bootstrap.min.css set `[hidden] { display: none !important; }` so we also need the `!important` here to be able to override the default hidden behavior on the sphinx rendered scikit-learn.org. See: https://github.com/scikit-learn/scikit-learn/issues/21755 */display: inline-block !important;position: relative;}#sk-container-id-1 div.sk-text-repr-fallback {display: none;}</style><div id=\"sk-container-id-1\" class=\"sk-top-container\"><div class=\"sk-text-repr-fallback\"><pre>UMAP(random_state=8, tqdm_kwds={&#x27;bar_format&#x27;: &#x27;{desc}: {percentage:3.0f}%| {bar} {n_fmt}/{total_fmt} [{elapsed}]&#x27;, &#x27;desc&#x27;: &#x27;Epochs completed&#x27;, &#x27;disable&#x27;: True})</pre><b>In a Jupyter environment, please rerun this cell to show the HTML representation or trust the notebook. <br />On GitHub, the HTML representation is unable to render, please try loading this page with nbviewer.org.</b></div><div class=\"sk-container\" hidden><div class=\"sk-item\"><div class=\"sk-estimator sk-toggleable\"><input class=\"sk-toggleable__control sk-hidden--visually\" id=\"sk-estimator-id-1\" type=\"checkbox\" checked><label for=\"sk-estimator-id-1\" class=\"sk-toggleable__label sk-toggleable__label-arrow\">UMAP</label><div class=\"sk-toggleable__content\"><pre>UMAP(random_state=8, tqdm_kwds={&#x27;bar_format&#x27;: &#x27;{desc}: {percentage:3.0f}%| {bar} {n_fmt}/{total_fmt} [{elapsed}]&#x27;, &#x27;desc&#x27;: &#x27;Epochs completed&#x27;, &#x27;disable&#x27;: True})</pre></div></div></div></div></div>"
      ],
      "text/plain": [
       "UMAP(random_state=8, tqdm_kwds={'bar_format': '{desc}: {percentage:3.0f}%| {bar} {n_fmt}/{total_fmt} [{elapsed}]', 'desc': 'Epochs completed', 'disable': True})"
      ]
     },
     "execution_count": 32,
     "metadata": {},
     "output_type": "execute_result"
    }
   ],
   "source": [
    "reducer = UMAP(random_state=8)\n",
    "reducer.fit(train_features)"
   ]
  },
  {
   "cell_type": "code",
   "execution_count": 33,
   "id": "70a7252d",
   "metadata": {
    "id": "70a7252d"
   },
   "outputs": [],
   "source": [
    "train_embeds = reducer.transform(train_features)"
   ]
  },
  {
   "cell_type": "markdown",
   "id": "3f50a812",
   "metadata": {
    "id": "3f50a812"
   },
   "source": [
    "Now we visualize the reduction on train dataset"
   ]
  },
  {
   "cell_type": "code",
   "execution_count": 34,
   "id": "XlPlr1ZQhb5f",
   "metadata": {
    "colab": {
     "base_uri": "https://localhost:8080/",
     "height": 0
    },
    "id": "XlPlr1ZQhb5f",
    "outputId": "c8860bb4-e158-4af7-9826-c01b512cfca3"
   },
   "outputs": [
    {
     "data": {
      "image/png": "[encoded data removed]",
      "text/plain": [
       "<Figure size 640x480 with 1 Axes>"
      ]
     },
     "metadata": {},
     "output_type": "display_data"
    },
    {
     "data": {
      "image/png": "[encoded data removed]",
      "text/plain": [
       "<Figure size 640x480 with 1 Axes>"
      ]
     },
     "execution_count": 34,
     "metadata": {},
     "output_type": "execute_result"
    }
   ],
   "source": [
    "show_scatter(train_embeds[:, 0], train_embeds[:, 1],df_features_train['malignancy'],'Train Embeddings', 0.5)\n",
    "\n"
   ]
  },
  {
   "cell_type": "markdown",
   "id": "84ddb8e2",
   "metadata": {
    "id": "84ddb8e2"
   },
   "source": [
    "We also do same visualization on cv and test"
   ]
  },
  {
   "cell_type": "code",
   "execution_count": 35,
   "id": "05ce9a28",
   "metadata": {
    "id": "05ce9a28"
   },
   "outputs": [],
   "source": [
    "cv_test_embeds = reducer.transform(cv_test_features)"
   ]
  },
  {
   "cell_type": "code",
   "execution_count": 36,
   "id": "6c007ab0",
   "metadata": {
    "colab": {
     "base_uri": "https://localhost:8080/",
     "height": 0
    },
    "id": "6c007ab0",
    "outputId": "e7fa1867-3d26-46b3-f17d-22c0bbaabaab"
   },
   "outputs": [
    {
     "data": {
      "image/png": "[encoded data removed]",
      "text/plain": [
       "<Figure size 640x480 with 1 Axes>"
      ]
     },
     "metadata": {},
     "output_type": "display_data"
    },
    {
     "data": {
      "image/png": "[encoded data removed]",
      "text/plain": [
       "<Figure size 640x480 with 1 Axes>"
      ]
     },
     "execution_count": 36,
     "metadata": {},
     "output_type": "execute_result"
    }
   ],
   "source": [
    "show_scatter(cv_test_embeds[:, 0], cv_test_embeds[:, 1],df_features_cv_test['malignancy'],'CV Test Embeddings', 0.5)\n"
   ]
  },
  {
   "cell_type": "markdown",
   "id": "Yl6VPo4JztSb",
   "metadata": {
    "id": "Yl6VPo4JztSb"
   },
   "source": [
    "Visualize on All"
   ]
  },
  {
   "cell_type": "code",
   "execution_count": 37,
   "id": "d-lKMBKozoL8",
   "metadata": {
    "id": "d-lKMBKozoL8"
   },
   "outputs": [],
   "source": [
    "all_embeds = reducer.transform(all_features)"
   ]
  },
  {
   "cell_type": "code",
   "execution_count": 38,
   "id": "8C1a3eW6zx3B",
   "metadata": {
    "colab": {
     "base_uri": "https://localhost:8080/",
     "height": 0
    },
    "id": "8C1a3eW6zx3B",
    "outputId": "298106b0-e3dc-46c2-b8dd-abbdb4f9f003"
   },
   "outputs": [
    {
     "data": {
      "image/png": "[encoded data removed]",
      "text/plain": [
       "<Figure size 640x480 with 1 Axes>"
      ]
     },
     "metadata": {},
     "output_type": "display_data"
    },
    {
     "data": {
      "image/png": "[encoded data removed]",
      "text/plain": [
       "<Figure size 640x480 with 1 Axes>"
      ]
     },
     "execution_count": 38,
     "metadata": {},
     "output_type": "execute_result"
    }
   ],
   "source": [
    "show_scatter(all_embeds[:, 0], all_embeds[:, 1],images_df['malignancy'],'All Embeddings', 0.5)\n"
   ]
  },
  {
   "cell_type": "markdown",
   "id": "b3ae499e",
   "metadata": {
    "id": "b3ae499e"
   },
   "source": [
    "We now save the reduce"
   ]
  },
  {
   "cell_type": "code",
   "execution_count": 28,
   "id": "b5345903",
   "metadata": {
    "id": "b5345903"
   },
   "outputs": [],
   "source": [
    "f_reducer = './cnn_umap_reducer.sav'\n",
    "pickle.dump(reducer, open(f_reducer, 'wb'))\n",
    "\n",
    "\n"
   ]
  },
  {
   "cell_type": "markdown",
   "id": "-ZIXwHwrkqCl",
   "metadata": {
    "id": "-ZIXwHwrkqCl"
   },
   "source": [
    "Note to lode from above file, we can call\n",
    "```python\n",
    "reducer = pickle.load((open(f_reducer, 'rb'))) \n",
    "```"
   ]
  },
  {
   "cell_type": "markdown",
   "id": "2e900474",
   "metadata": {
    "id": "2e900474"
   },
   "source": [
    "### Feature Cluster"
   ]
  },
  {
   "cell_type": "markdown",
   "id": "f55115df",
   "metadata": {
    "id": "f55115df"
   },
   "source": [
    "Now we cluster the training embeddings using Gaussian Mixture\n",
    "\n",
    "We first visualize the silhouette score\n",
    "\n",
    "(we only cluster on malignant since that is what we want)"
   ]
  },
  {
   "cell_type": "code",
   "execution_count": 29,
   "id": "FHO3q6vUjAQh",
   "metadata": {
    "id": "FHO3q6vUjAQh"
   },
   "outputs": [],
   "source": [
    "train_embeds_malig = reducer.transform(train_features[df_features_train['malignancy'] > 1])"
   ]
  },
  {
   "cell_type": "code",
   "execution_count": 30,
   "id": "29b9cdc8",
   "metadata": {
    "colab": {
     "base_uri": "https://localhost:8080/",
     "height": 0
    },
    "id": "29b9cdc8",
    "outputId": "65d1d5d9-e274-4fcd-8807-1418dfaf5516"
   },
   "outputs": [
    {
     "data": {
      "text/plain": [
       "Text(0, 0.5, 'Silhouette Coefficients')"
      ]
     },
     "execution_count": 30,
     "metadata": {},
     "output_type": "execute_result"
    },
    {
     "data": {
      "image/png": "[encoded data removed]",
      "text/plain": [
       "<Figure size 432x288 with 1 Axes>"
      ]
     },
     "metadata": {
      "needs_background": "light"
     },
     "output_type": "display_data"
    }
   ],
   "source": [
    "clusters = [n for n in range(2,16)]\n",
    "silhouette_coefficients = []\n",
    "\n",
    "for cluster in clusters:\n",
    "  gmm = GaussianMixture(n_components=cluster, random_state=61).fit(train_embeds_malig)\n",
    "  labels = gmm.predict(train_embeds_malig)\n",
    "  \n",
    "  silhouette_avg = silhouette_score(train_embeds_malig, labels)\n",
    "  silhouette_coefficients.append(silhouette_avg)\n",
    "\n",
    "plt.plot(clusters, silhouette_coefficients)\n",
    "plt.xlabel('Number of Clusters')\n",
    "plt.ylabel('Silhouette Coefficients')"
   ]
  },
  {
   "cell_type": "markdown",
   "id": "2eb4177c",
   "metadata": {
    "id": "2eb4177c"
   },
   "source": [
    "We note from above, the best number of subclasses is 2."
   ]
  },
  {
   "cell_type": "code",
   "execution_count": 31,
   "id": "61f1e245",
   "metadata": {
    "id": "61f1e245"
   },
   "outputs": [],
   "source": [
    "clusterer = GaussianMixture(n_components=2, random_state=61).fit(train_embeds_malig)"
   ]
  },
  {
   "cell_type": "markdown",
   "id": "HACFygAvj1b0",
   "metadata": {
    "id": "HACFygAvj1b0"
   },
   "source": [
    "We now visualize the clusters ont train"
   ]
  },
  {
   "cell_type": "code",
   "execution_count": 32,
   "id": "0e87f5e6",
   "metadata": {
    "colab": {
     "base_uri": "https://localhost:8080/",
     "height": 0
    },
    "id": "0e87f5e6",
    "outputId": "23db18ff-e396-4584-d356-2192dfe021da"
   },
   "outputs": [
    {
     "data": {
      "image/png": "[encoded data removed]",
      "text/plain": [
       "<Figure size 432x288 with 1 Axes>"
      ]
     },
     "metadata": {
      "needs_background": "light"
     },
     "output_type": "display_data"
    },
    {
     "data": {
      "image/png": "[encoded data removed]",
      "text/plain": [
       "<Figure size 432x288 with 1 Axes>"
      ]
     },
     "execution_count": 32,
     "metadata": {},
     "output_type": "execute_result"
    }
   ],
   "source": [
    "train_labels = clusterer.predict(train_embeds)\n",
    "\n",
    "show_scatter(train_embeds[:, 0], train_embeds[:, 1],train_labels,'Training Embeddings Clustered', 0.5)"
   ]
  },
  {
   "cell_type": "code",
   "execution_count": 33,
   "id": "14047808",
   "metadata": {
    "colab": {
     "base_uri": "https://localhost:8080/",
     "height": 0
    },
    "id": "14047808",
    "outputId": "1a78a868-b0b4-451b-bd44-b90949cd0a26"
   },
   "outputs": [
    {
     "data": {
      "image/png": "[encoded data removed]",
      "text/plain": [
       "<Figure size 432x288 with 1 Axes>"
      ]
     },
     "metadata": {
      "needs_background": "light"
     },
     "output_type": "display_data"
    },
    {
     "data": {
      "image/png": "[encoded data removed]",
      "text/plain": [
       "<Figure size 432x288 with 1 Axes>"
      ]
     },
     "execution_count": 33,
     "metadata": {},
     "output_type": "execute_result"
    }
   ],
   "source": [
    "cv_test_labels = clusterer.predict(cv_test_embeds)\n",
    "\n",
    "show_scatter(cv_test_embeds[:, 0], cv_test_embeds[:, 1],cv_test_labels,'CV Test Embeddings Clustered', 0.5)"
   ]
  },
  {
   "cell_type": "markdown",
   "id": "dbAxN68akWic",
   "metadata": {
    "id": "dbAxN68akWic"
   },
   "source": [
    "Now we save the clusterer"
   ]
  },
  {
   "cell_type": "code",
   "execution_count": 34,
   "id": "s_bYeCBTkaIX",
   "metadata": {
    "id": "s_bYeCBTkaIX"
   },
   "outputs": [],
   "source": [
    "f_clusterer = './cnn_umap_clusterer.sav'\n",
    "pickle.dump(reducer, open(f_reducer, 'wb'))"
   ]
  },
  {
   "cell_type": "markdown",
   "id": "4F0y_ltDlNYB",
   "metadata": {
    "id": "4F0y_ltDlNYB"
   },
   "source": [
    "### Save the labels"
   ]
  },
  {
   "cell_type": "markdown",
   "id": "Ry_7lIXplXPx",
   "metadata": {
    "id": "Ry_7lIXplXPx"
   },
   "source": [
    "Now that we have the labels, we want to save them to csv we so we can train gDRO on them"
   ]
  },
  {
   "cell_type": "code",
   "execution_count": 35,
   "id": "feYM-zJylcZL",
   "metadata": {
    "colab": {
     "base_uri": "https://localhost:8080/",
     "height": 0
    },
    "id": "feYM-zJylcZL",
    "outputId": "53c189af-a8d0-4297-e2c4-e67cd2d65785"
   },
   "outputs": [
    {
     "name": "stderr",
     "output_type": "stream",
     "text": [
      "/usr/local/lib/python3.7/dist-packages/ipykernel_launcher.py:1: SettingWithCopyWarning: \n",
      "A value is trying to be set on a copy of a slice from a DataFrame.\n",
      "Try using .loc[row_indexer,col_indexer] = value instead\n",
      "\n",
      "See the caveats in the documentation: https://pandas.pydata.org/pandas-docs/stable/user_guide/indexing.html#returning-a-view-versus-a-copy\n",
      "  \"\"\"Entry point for launching an IPython kernel.\n",
      "/usr/local/lib/python3.7/dist-packages/ipykernel_launcher.py:2: SettingWithCopyWarning: \n",
      "A value is trying to be set on a copy of a slice from a DataFrame.\n",
      "Try using .loc[row_indexer,col_indexer] = value instead\n",
      "\n",
      "See the caveats in the documentation: https://pandas.pydata.org/pandas-docs/stable/user_guide/indexing.html#returning-a-view-versus-a-copy\n",
      "  \n"
     ]
    },
    {
     "data": {
      "text/html": [
       "\n",
       "  <div id=\"df-d8dfe32f-4f08-421a-baff-359178b9b473\">\n",
       "    <div class=\"colab-df-container\">\n",
       "      <div>\n",
       "<style scoped>\n",
       "    .dataframe tbody tr th:only-of-type {\n",
       "        vertical-align: middle;\n",
       "    }\n",
       "\n",
       "    .dataframe tbody tr th {\n",
       "        vertical-align: top;\n",
       "    }\n",
       "\n",
       "    .dataframe thead th {\n",
       "        text-align: right;\n",
       "    }\n",
       "</style>\n",
       "<table border=\"1\" class=\"dataframe\">\n",
       "  <thead>\n",
       "    <tr style=\"text-align: right;\">\n",
       "      <th></th>\n",
       "      <th>noduleID</th>\n",
       "      <th>cluster</th>\n",
       "    </tr>\n",
       "  </thead>\n",
       "  <tbody>\n",
       "    <tr>\n",
       "      <th>0</th>\n",
       "      <td>1</td>\n",
       "      <td>1</td>\n",
       "    </tr>\n",
       "    <tr>\n",
       "      <th>1</th>\n",
       "      <td>2</td>\n",
       "      <td>0</td>\n",
       "    </tr>\n",
       "    <tr>\n",
       "      <th>2</th>\n",
       "      <td>3</td>\n",
       "      <td>1</td>\n",
       "    </tr>\n",
       "    <tr>\n",
       "      <th>3</th>\n",
       "      <td>4</td>\n",
       "      <td>0</td>\n",
       "    </tr>\n",
       "    <tr>\n",
       "      <th>4</th>\n",
       "      <td>5</td>\n",
       "      <td>0</td>\n",
       "    </tr>\n",
       "  </tbody>\n",
       "</table>\n",
       "</div>\n",
       "      <button class=\"colab-df-convert\" onclick=\"convertToInteractive('df-d8dfe32f-4f08-421a-baff-359178b9b473')\"\n",
       "              title=\"Convert this dataframe to an interactive table.\"\n",
       "              style=\"display:none;\">\n",
       "        \n",
       "  <svg xmlns=\"http://www.w3.org/2000/svg\" height=\"24px\"viewBox=\"0 0 24 24\"\n",
       "       width=\"24px\">\n",
       "    <path d=\"M0 0h24v24H0V0z\" fill=\"none\"/>\n",
       "    <path d=\"M18.56 5.44l.94 2.06.94-2.06 2.06-.94-2.06-.94-.94-2.06-.94 2.06-2.06.94zm-11 1L8.5 8.5l.94-2.06 2.06-.94-2.06-.94L8.5 2.5l-.94 2.06-2.06.94zm10 10l.94 2.06.94-2.06 2.06-.94-2.06-.94-.94-2.06-.94 2.06-2.06.94z\"/><path d=\"M17.41 7.96l-1.37-1.37c-.4-.4-.92-.59-1.43-.59-.52 0-1.04.2-1.43.59L10.3 9.45l-7.72 7.72c-.78.78-.78 2.05 0 2.83L4 21.41c.39.39.9.59 1.41.59.51 0 1.02-.2 1.41-.59l7.78-7.78 2.81-2.81c.8-.78.8-2.07 0-2.86zM5.41 20L4 18.59l7.72-7.72 1.47 1.35L5.41 20z\"/>\n",
       "  </svg>\n",
       "      </button>\n",
       "      \n",
       "  <style>\n",
       "    .colab-df-container {\n",
       "      display:flex;\n",
       "      flex-wrap:wrap;\n",
       "      gap: 12px;\n",
       "    }\n",
       "\n",
       "    .colab-df-convert {\n",
       "      background-color: #E8F0FE;\n",
       "      border: none;\n",
       "      border-radius: 50%;\n",
       "      cursor: pointer;\n",
       "      display: none;\n",
       "      fill: #1967D2;\n",
       "      height: 32px;\n",
       "      padding: 0 0 0 0;\n",
       "      width: 32px;\n",
       "    }\n",
       "\n",
       "    .colab-df-convert:hover {\n",
       "      background-color: #E2EBFA;\n",
       "      box-shadow: 0px 1px 2px rgba(60, 64, 67, 0.3), 0px 1px 3px 1px rgba(60, 64, 67, 0.15);\n",
       "      fill: #174EA6;\n",
       "    }\n",
       "\n",
       "    [theme=dark] .colab-df-convert {\n",
       "      background-color: #3B4455;\n",
       "      fill: #D2E3FC;\n",
       "    }\n",
       "\n",
       "    [theme=dark] .colab-df-convert:hover {\n",
       "      background-color: #434B5C;\n",
       "      box-shadow: 0px 1px 3px 1px rgba(0, 0, 0, 0.15);\n",
       "      filter: drop-shadow(0px 1px 2px rgba(0, 0, 0, 0.3));\n",
       "      fill: #FFFFFF;\n",
       "    }\n",
       "  </style>\n",
       "\n",
       "      <script>\n",
       "        const buttonEl =\n",
       "          document.querySelector('#df-d8dfe32f-4f08-421a-baff-359178b9b473 button.colab-df-convert');\n",
       "        buttonEl.style.display =\n",
       "          google.colab.kernel.accessAllowed ? 'block' : 'none';\n",
       "\n",
       "        async function convertToInteractive(key) {\n",
       "          const element = document.querySelector('#df-d8dfe32f-4f08-421a-baff-359178b9b473');\n",
       "          const dataTable =\n",
       "            await google.colab.kernel.invokeFunction('convertToInteractive',\n",
       "                                                     [key], {});\n",
       "          if (!dataTable) return;\n",
       "\n",
       "          const docLinkHtml = 'Like what you see? Visit the ' +\n",
       "            '<a target=\"_blank\" href=https://colab.research.google.com/notebooks/data_table.ipynb>data table notebook</a>'\n",
       "            + ' to learn more about interactive tables.';\n",
       "          element.innerHTML = '';\n",
       "          dataTable['output_type'] = 'display_data';\n",
       "          await google.colab.output.renderOutput(dataTable, element);\n",
       "          const docLink = document.createElement('div');\n",
       "          docLink.innerHTML = docLinkHtml;\n",
       "          element.appendChild(docLink);\n",
       "        }\n",
       "      </script>\n",
       "    </div>\n",
       "  </div>\n",
       "  "
      ],
      "text/plain": [
       "   noduleID  cluster\n",
       "0         1        1\n",
       "1         2        0\n",
       "2         3        1\n",
       "3         4        0\n",
       "4         5        0"
      ]
     },
     "execution_count": 35,
     "metadata": {},
     "output_type": "execute_result"
    }
   ],
   "source": [
    "df_features_train['cluster'] = train_labels\n",
    "df_features_cv_test['cluster'] = cv_test_labels\n",
    "\n",
    "df_clusters = pd.concat([df_features_train, df_features_cv_test])[['noduleID', 'cluster']]\n",
    "df_clusters.sort_values('noduleID', inplace=True)\n",
    "df_clusters.head()"
   ]
  },
  {
   "cell_type": "markdown",
   "id": "F_PY5MsKmAei",
   "metadata": {
    "id": "F_PY5MsKmAei"
   },
   "source": [
    "We can add these lables to the df_splits dataframe"
   ]
  },
  {
   "cell_type": "code",
   "execution_count": 36,
   "id": "Zmebxa-Gl214",
   "metadata": {
    "id": "Zmebxa-Gl214"
   },
   "outputs": [],
   "source": [
    "df_splits['cluster'] = [ 0 if m % 2 == 0 else 1 + c for m,c in zip(df_splits['malignancy_b'], df_clusters['cluster'])]"
   ]
  },
  {
   "cell_type": "code",
   "execution_count": 37,
   "id": "5htZbtsVoJkm",
   "metadata": {
    "colab": {
     "base_uri": "https://localhost:8080/"
    },
    "id": "5htZbtsVoJkm",
    "outputId": "1743ee6c-2520-48b9-8d2b-ae541448d914"
   },
   "outputs": [
    {
     "data": {
      "text/plain": [
       "0       2\n",
       "1       1\n",
       "2       2\n",
       "3       1\n",
       "4       1\n",
       "       ..\n",
       "1483    1\n",
       "1484    0\n",
       "1485    0\n",
       "1486    2\n",
       "1487    0\n",
       "Name: cluster, Length: 1488, dtype: int64"
      ]
     },
     "execution_count": 37,
     "metadata": {},
     "output_type": "execute_result"
    }
   ],
   "source": [
    "df_splits['cluster']"
   ]
  },
  {
   "cell_type": "markdown",
   "id": "UiCgDCb9oUIj",
   "metadata": {
    "id": "UiCgDCb9oUIj"
   },
   "source": [
    "Now we save the csv"
   ]
  },
  {
   "cell_type": "code",
   "execution_count": 38,
   "id": "WoM5bPaEoVeN",
   "metadata": {
    "id": "WoM5bPaEoVeN"
   },
   "outputs": [],
   "source": [
    "df_splits.to_csv('./data/LIDC_data_split_with_cluster(temp).csv')"
   ]
  },
  {
   "cell_type": "markdown",
   "id": "TXrR7eLvoiJ2",
   "metadata": {
    "id": "TXrR7eLvoiJ2"
   },
   "source": [
    "## Train ERM and gDRO on new models"
   ]
  },
  {
   "cell_type": "markdown",
   "id": "o_v71Ur4qaNn",
   "metadata": {
    "id": "o_v71Ur4qaNn"
   },
   "source": [
    "We again get our dataloaders (but with the new sublables)"
   ]
  },
  {
   "cell_type": "code",
   "execution_count": 39,
   "id": "An-LvUlHq339",
   "metadata": {
    "colab": {
     "base_uri": "https://localhost:8080/",
     "height": 206
    },
    "id": "An-LvUlHq339",
    "outputId": "a2008514-ded5-4e32-f89b-8e3e74569706"
   },
   "outputs": [
    {
     "data": {
      "text/html": [
       "\n",
       "  <div id=\"df-98596c8a-4003-4e06-bed9-e342ede8cda8\">\n",
       "    <div class=\"colab-df-container\">\n",
       "      <div>\n",
       "<style scoped>\n",
       "    .dataframe tbody tr th:only-of-type {\n",
       "        vertical-align: middle;\n",
       "    }\n",
       "\n",
       "    .dataframe tbody tr th {\n",
       "        vertical-align: top;\n",
       "    }\n",
       "\n",
       "    .dataframe thead th {\n",
       "        text-align: right;\n",
       "    }\n",
       "</style>\n",
       "<table border=\"1\" class=\"dataframe\">\n",
       "  <thead>\n",
       "    <tr style=\"text-align: right;\">\n",
       "      <th></th>\n",
       "      <th>noduleID</th>\n",
       "      <th>split</th>\n",
       "      <th>malignancy</th>\n",
       "      <th>malignancy_b</th>\n",
       "      <th>spic_groups</th>\n",
       "      <th>cluster</th>\n",
       "    </tr>\n",
       "  </thead>\n",
       "  <tbody>\n",
       "    <tr>\n",
       "      <th>0</th>\n",
       "      <td>1</td>\n",
       "      <td>0</td>\n",
       "      <td>3</td>\n",
       "      <td>1</td>\n",
       "      <td>3</td>\n",
       "      <td>2</td>\n",
       "    </tr>\n",
       "    <tr>\n",
       "      <th>1</th>\n",
       "      <td>2</td>\n",
       "      <td>0</td>\n",
       "      <td>3</td>\n",
       "      <td>1</td>\n",
       "      <td>2</td>\n",
       "      <td>1</td>\n",
       "    </tr>\n",
       "    <tr>\n",
       "      <th>2</th>\n",
       "      <td>3</td>\n",
       "      <td>1</td>\n",
       "      <td>3</td>\n",
       "      <td>1</td>\n",
       "      <td>3</td>\n",
       "      <td>2</td>\n",
       "    </tr>\n",
       "    <tr>\n",
       "      <th>3</th>\n",
       "      <td>4</td>\n",
       "      <td>0</td>\n",
       "      <td>2</td>\n",
       "      <td>1</td>\n",
       "      <td>3</td>\n",
       "      <td>1</td>\n",
       "    </tr>\n",
       "    <tr>\n",
       "      <th>4</th>\n",
       "      <td>5</td>\n",
       "      <td>2</td>\n",
       "      <td>2</td>\n",
       "      <td>1</td>\n",
       "      <td>2</td>\n",
       "      <td>1</td>\n",
       "    </tr>\n",
       "  </tbody>\n",
       "</table>\n",
       "</div>\n",
       "      <button class=\"colab-df-convert\" onclick=\"convertToInteractive('df-98596c8a-4003-4e06-bed9-e342ede8cda8')\"\n",
       "              title=\"Convert this dataframe to an interactive table.\"\n",
       "              style=\"display:none;\">\n",
       "        \n",
       "  <svg xmlns=\"http://www.w3.org/2000/svg\" height=\"24px\"viewBox=\"0 0 24 24\"\n",
       "       width=\"24px\">\n",
       "    <path d=\"M0 0h24v24H0V0z\" fill=\"none\"/>\n",
       "    <path d=\"M18.56 5.44l.94 2.06.94-2.06 2.06-.94-2.06-.94-.94-2.06-.94 2.06-2.06.94zm-11 1L8.5 8.5l.94-2.06 2.06-.94-2.06-.94L8.5 2.5l-.94 2.06-2.06.94zm10 10l.94 2.06.94-2.06 2.06-.94-2.06-.94-.94-2.06-.94 2.06-2.06.94z\"/><path d=\"M17.41 7.96l-1.37-1.37c-.4-.4-.92-.59-1.43-.59-.52 0-1.04.2-1.43.59L10.3 9.45l-7.72 7.72c-.78.78-.78 2.05 0 2.83L4 21.41c.39.39.9.59 1.41.59.51 0 1.02-.2 1.41-.59l7.78-7.78 2.81-2.81c.8-.78.8-2.07 0-2.86zM5.41 20L4 18.59l7.72-7.72 1.47 1.35L5.41 20z\"/>\n",
       "  </svg>\n",
       "      </button>\n",
       "      \n",
       "  <style>\n",
       "    .colab-df-container {\n",
       "      display:flex;\n",
       "      flex-wrap:wrap;\n",
       "      gap: 12px;\n",
       "    }\n",
       "\n",
       "    .colab-df-convert {\n",
       "      background-color: #E8F0FE;\n",
       "      border: none;\n",
       "      border-radius: 50%;\n",
       "      cursor: pointer;\n",
       "      display: none;\n",
       "      fill: #1967D2;\n",
       "      height: 32px;\n",
       "      padding: 0 0 0 0;\n",
       "      width: 32px;\n",
       "    }\n",
       "\n",
       "    .colab-df-convert:hover {\n",
       "      background-color: #E2EBFA;\n",
       "      box-shadow: 0px 1px 2px rgba(60, 64, 67, 0.3), 0px 1px 3px 1px rgba(60, 64, 67, 0.15);\n",
       "      fill: #174EA6;\n",
       "    }\n",
       "\n",
       "    [theme=dark] .colab-df-convert {\n",
       "      background-color: #3B4455;\n",
       "      fill: #D2E3FC;\n",
       "    }\n",
       "\n",
       "    [theme=dark] .colab-df-convert:hover {\n",
       "      background-color: #434B5C;\n",
       "      box-shadow: 0px 1px 3px 1px rgba(0, 0, 0, 0.15);\n",
       "      filter: drop-shadow(0px 1px 2px rgba(0, 0, 0, 0.3));\n",
       "      fill: #FFFFFF;\n",
       "    }\n",
       "  </style>\n",
       "\n",
       "      <script>\n",
       "        const buttonEl =\n",
       "          document.querySelector('#df-98596c8a-4003-4e06-bed9-e342ede8cda8 button.colab-df-convert');\n",
       "        buttonEl.style.display =\n",
       "          google.colab.kernel.accessAllowed ? 'block' : 'none';\n",
       "\n",
       "        async function convertToInteractive(key) {\n",
       "          const element = document.querySelector('#df-98596c8a-4003-4e06-bed9-e342ede8cda8');\n",
       "          const dataTable =\n",
       "            await google.colab.kernel.invokeFunction('convertToInteractive',\n",
       "                                                     [key], {});\n",
       "          if (!dataTable) return;\n",
       "\n",
       "          const docLinkHtml = 'Like what you see? Visit the ' +\n",
       "            '<a target=\"_blank\" href=https://colab.research.google.com/notebooks/data_table.ipynb>data table notebook</a>'\n",
       "            + ' to learn more about interactive tables.';\n",
       "          element.innerHTML = '';\n",
       "          dataTable['output_type'] = 'display_data';\n",
       "          await google.colab.output.renderOutput(dataTable, element);\n",
       "          const docLink = document.createElement('div');\n",
       "          docLink.innerHTML = docLinkHtml;\n",
       "          element.appendChild(docLink);\n",
       "        }\n",
       "      </script>\n",
       "    </div>\n",
       "  </div>\n",
       "  "
      ],
      "text/plain": [
       "   noduleID  split  malignancy  malignancy_b  spic_groups  cluster\n",
       "0         1      0           3             1            3        2\n",
       "1         2      0           3             1            2        1\n",
       "2         3      1           3             1            3        2\n",
       "3         4      0           2             1            3        1\n",
       "4         5      2           2             1            2        1"
      ]
     },
     "execution_count": 39,
     "metadata": {},
     "output_type": "execute_result"
    }
   ],
   "source": [
    "df_splits = pd.read_csv('./data/LIDC_data_split_with_cluster(temp).csv', index_col=0)\n",
    "df_splits.head()"
   ]
  },
  {
   "cell_type": "code",
   "execution_count": 40,
   "id": "TWscue2zqiqx",
   "metadata": {
    "colab": {
     "base_uri": "https://localhost:8080/"
    },
    "id": "TWscue2zqiqx",
    "outputId": "aebb82e4-18dd-406a-ab18-d5a84b1f4f16"
   },
   "outputs": [
    {
     "name": "stderr",
     "output_type": "stream",
     "text": [
      "/usr/local/lib/python3.7/dist-packages/pandas/util/_decorators.py:311: SettingWithCopyWarning: \n",
      "A value is trying to be set on a copy of a slice from a DataFrame\n",
      "\n",
      "See the caveats in the documentation: https://pandas.pydata.org/pandas-docs/stable/user_guide/indexing.html#returning-a-view-versus-a-copy\n",
      "  return func(*args, **kwargs)\n",
      "/content/LIDC_GDRO/utils/image_data_utils.py:223: SettingWithCopyWarning: \n",
      "A value is trying to be set on a copy of a slice from a DataFrame.\n",
      "Try using .loc[row_indexer,col_indexer] = value instead\n",
      "\n",
      "See the caveats in the documentation: https://pandas.pydata.org/pandas-docs/stable/user_guide/indexing.html#returning-a-view-versus-a-copy\n",
      "  df_features['clusters'] = df_subclass[subclass]\n",
      "/content/LIDC_GDRO/utils/image_data_utils.py:224: SettingWithCopyWarning: \n",
      "A value is trying to be set on a copy of a slice from a DataFrame.\n",
      "Try using .loc[row_indexer,col_indexer] = value instead\n",
      "\n",
      "See the caveats in the documentation: https://pandas.pydata.org/pandas-docs/stable/user_guide/indexing.html#returning-a-view-versus-a-copy\n",
      "  df_features['malignancy_b'] = df_splits['malignancy_b']\n"
     ]
    }
   ],
   "source": [
    "train_data_c, cv_data_c, test_data_c = get_features(images=True, features=images_df, device=DEVICE, subclass='cluster')\n",
    "\n",
    "#datasets\n",
    "tr_c = SubclassedDataset(*train_data_c)\n",
    "cv_c = SubclassedDataset(*cv_data_c)\n",
    "tst_c = SubclassedDataset(*test_data_c)\n",
    "\n",
    "#dataloaders\n",
    "tr_loader_c = InfiniteDataLoader(tr_c, batch_size=128)\n",
    "cv_loader_c = InfiniteDataLoader(cv_c, len(cv_c))\n",
    "tst_loader_c = InfiniteDataLoader(tst_c, len(tst_c))"
   ]
  },
  {
   "cell_type": "code",
   "execution_count": 41,
   "id": "JjOgG5WW1Sq7",
   "metadata": {
    "id": "JjOgG5WW1Sq7"
   },
   "outputs": [],
   "source": [
    "tr_loader_c_gdro = InfiniteDataLoader(tr_c, batch_size=128, weights=get_sampler_weights(tr_c.subclasses))\n"
   ]
  },
  {
   "cell_type": "markdown",
   "id": "iLh0TdupydUC",
   "metadata": {
    "id": "iLh0TdupydUC"
   },
   "source": [
    "### ERM"
   ]
  },
  {
   "cell_type": "code",
   "execution_count": 42,
   "id": "gXz-BR_EtBbS",
   "metadata": {
    "id": "gXz-BR_EtBbS"
   },
   "outputs": [],
   "source": [
    "model_ERM = TransferModel18(device=DEVICE, pretrained=True, freeze=False)"
   ]
  },
  {
   "cell_type": "code",
   "execution_count": 43,
   "id": "PMzFruMyt1R7",
   "metadata": {
    "colab": {
     "base_uri": "https://localhost:8080/"
    },
    "id": "PMzFruMyt1R7",
    "outputId": "f7668ba2-85b4-41db-ec26-c1f87e6f54a0"
   },
   "outputs": [
    {
     "name": "stdout",
     "output_type": "stream",
     "text": [
      "Epoch 1 / 15\n",
      "Epoch 2 / 15\n",
      "Epoch 3 / 15\n",
      "Epoch 4 / 15\n",
      "Epoch 5 / 15\n",
      "Epoch 00005: reducing learning rate of group 0 to 1.0000e-04.\n",
      "Epoch 6 / 15\n",
      "Epoch 7 / 15\n",
      "Epoch 8 / 15\n",
      "Epoch 9 / 15\n",
      "Epoch 10 / 15\n",
      "Epoch 11 / 15\n",
      "Epoch 00011: reducing learning rate of group 0 to 2.0000e-05.\n",
      "Epoch 12 / 15\n",
      "Epoch 13 / 15\n",
      "Epoch 14 / 15\n",
      "Epoch 15 / 15\n"
     ]
    }
   ],
   "source": [
    "epochs = 15\n",
    "loss_fn = ERMLoss(model_ERM, torch.nn.CrossEntropyLoss())\n",
    "optimizer = torch.optim.AdamW(model_ERM.parameters(), lr=0.0005, weight_decay=0.005)\n",
    "train_epochs(epochs, tr_loader_c, cv_loader_c, model_ERM, loss_fn, optimizer, scheduler=ReduceLROnPlateau(optimizer, mode='max', factor=0.2, patience=2, verbose=True), verbose=True, num_subclasses=4)"
   ]
  },
  {
   "cell_type": "code",
   "execution_count": 44,
   "id": "AiuxZZ2fuRQB",
   "metadata": {
    "colab": {
     "base_uri": "https://localhost:8080/"
    },
    "id": "AiuxZZ2fuRQB",
    "outputId": "fa1de09f-4e06-46ed-d976-5a1c276de6ab"
   },
   "outputs": [
    {
     "data": {
      "text/plain": [
       "(0.8571428571428571, 1.0, 0.8682170542635659, 0.6904761904761905, 1.0)"
      ]
     },
     "execution_count": 44,
     "metadata": {},
     "output_type": "execute_result"
    }
   ],
   "source": [
    "evaluate(tst_loader_c,model_ERM, 4)"
   ]
  },
  {
   "cell_type": "markdown",
   "id": "wyJvl6CWyejh",
   "metadata": {
    "id": "wyJvl6CWyejh"
   },
   "source": [
    "### GDRO"
   ]
  },
  {
   "cell_type": "code",
   "execution_count": 45,
   "id": "ADIcTtuDygR8",
   "metadata": {
    "id": "ADIcTtuDygR8"
   },
   "outputs": [],
   "source": [
    "model_gDRO = TransferModel18(device=DEVICE, pretrained=True, freeze=False)"
   ]
  },
  {
   "cell_type": "code",
   "execution_count": 46,
   "id": "NOLVmOZsyjMq",
   "metadata": {
    "colab": {
     "base_uri": "https://localhost:8080/"
    },
    "id": "NOLVmOZsyjMq",
    "outputId": "a1f01499-69bf-49b3-e496-4d71f7b88a0d"
   },
   "outputs": [
    {
     "name": "stdout",
     "output_type": "stream",
     "text": [
      "Epoch 1 / 15\n",
      "Epoch 2 / 15\n",
      "Epoch 3 / 15\n",
      "Epoch 4 / 15\n",
      "Epoch 00004: reducing learning rate of group 0 to 1.0000e-04.\n",
      "Epoch 5 / 15\n",
      "Epoch 6 / 15\n",
      "Epoch 7 / 15\n",
      "Epoch 8 / 15\n",
      "Epoch 00008: reducing learning rate of group 0 to 2.0000e-05.\n",
      "Epoch 9 / 15\n",
      "Epoch 10 / 15\n",
      "Epoch 11 / 15\n",
      "Epoch 00011: reducing learning rate of group 0 to 4.0000e-06.\n",
      "Epoch 12 / 15\n",
      "Epoch 13 / 15\n",
      "Epoch 14 / 15\n",
      "Epoch 00014: reducing learning rate of group 0 to 8.0000e-07.\n",
      "Epoch 15 / 15\n"
     ]
    }
   ],
   "source": [
    "epochs = 15\n",
    "loss_fn = GDROLoss(model_gDRO, torch.nn.CrossEntropyLoss(), 0.01, 4)\n",
    "optimizer = torch.optim.AdamW(model_gDRO.parameters(), lr=0.0005, weight_decay=0.005)\n",
    "train_epochs(epochs, tr_loader_c_gdro, tst_loader_c, model_gDRO, loss_fn, optimizer, scheduler=ReduceLROnPlateau(optimizer, mode='max', factor=0.2, patience=2, verbose=True), verbose=True, num_subclasses=4)"
   ]
  },
  {
   "cell_type": "code",
   "execution_count": 47,
   "id": "z393MaMZymED",
   "metadata": {
    "colab": {
     "base_uri": "https://localhost:8080/"
    },
    "id": "z393MaMZymED",
    "outputId": "d2c08134-fc40-4e42-c573-f192cdfd2229"
   },
   "outputs": [
    {
     "data": {
      "text/plain": [
       "(0.8870431893687708,\n",
       " 0.9807692307692307,\n",
       " 0.8837209302325582,\n",
       " 0.7857142857142857,\n",
       " 1.0)"
      ]
     },
     "execution_count": 47,
     "metadata": {},
     "output_type": "execute_result"
    }
   ],
   "source": [
    "evaluate(tst_loader_c,model_gDRO, 4)"
   ]
  }
 ],
 "metadata": {
  "accelerator": "GPU",
  "colab": {
   "include_colab_link": true,
   "name": "LIDC_Georges_End_to_End.ipynb",
   "provenance": []
  },
  "gpuClass": "standard",
  "kernelspec": {
   "display_name": "Python [conda env:lidc]",
   "language": "python",
   "name": "conda-env-lidc-py"
  },
  "language_info": {
   "codemirror_mode": {
    "name": "ipython",
    "version": 3
   },
   "file_extension": ".py",
   "mimetype": "text/x-python",
   "name": "python",
   "nbconvert_exporter": "python",
   "pygments_lexer": "ipython3",
   "version": "3.10.4"
  },
  "widgets": {
   "application/vnd.jupyter.widget-state+json": {
    "191293883ba04ef1b213c587c6789458": {
     "model_module": "@jupyter-widgets/base",
     "model_module_version": "1.2.0",
     "model_name": "LayoutModel",
     "state": {
      "_model_module": "@jupyter-widgets/base",
      "_model_module_version": "1.2.0",
      "_model_name": "LayoutModel",
      "_view_count": null,
      "_view_module": "@jupyter-widgets/base",
      "_view_module_version": "1.2.0",
      "_view_name": "LayoutView",
      "align_content": null,
      "align_items": null,
      "align_self": null,
      "border": null,
      "bottom": null,
      "display": null,
      "flex": null,
      "flex_flow": null,
      "grid_area": null,
      "grid_auto_columns": null,
      "grid_auto_flow": null,
      "grid_auto_rows": null,
      "grid_column": null,
      "grid_gap": null,
      "grid_row": null,
      "grid_template_areas": null,
      "grid_template_columns": null,
      "grid_template_rows": null,
      "height": null,
      "justify_content": null,
      "justify_items": null,
      "left": null,
      "margin": null,
      "max_height": null,
      "max_width": null,
      "min_height": null,
      "min_width": null,
      "object_fit": null,
      "object_position": null,
      "order": null,
      "overflow": null,
      "overflow_x": null,
      "overflow_y": null,
      "padding": null,
      "right": null,
      "top": null,
      "visibility": null,
      "width": null
     }
    },
    "1b15448385224917a3af14b6ddb8bd56": {
     "model_module": "@jupyter-widgets/controls",
     "model_module_version": "1.5.0",
     "model_name": "FloatProgressModel",
     "state": {
      "_dom_classes": [],
      "_model_module": "@jupyter-widgets/controls",
      "_model_module_version": "1.5.0",
      "_model_name": "FloatProgressModel",
      "_view_count": null,
      "_view_module": "@jupyter-widgets/controls",
      "_view_module_version": "1.5.0",
      "_view_name": "ProgressView",
      "bar_style": "success",
      "description": "",
      "description_tooltip": null,
      "layout": "IPY_MODEL_e921ccbd962e4b449aae55f6da215387",
      "max": 46830571,
      "min": 0,
      "orientation": "horizontal",
      "style": "IPY_MODEL_3612499724f34abaa102db0b95e71f3a",
      "value": 46830571
     }
    },
    "3612499724f34abaa102db0b95e71f3a": {
     "model_module": "@jupyter-widgets/controls",
     "model_module_version": "1.5.0",
     "model_name": "ProgressStyleModel",
     "state": {
      "_model_module": "@jupyter-widgets/controls",
      "_model_module_version": "1.5.0",
      "_model_name": "ProgressStyleModel",
      "_view_count": null,
      "_view_module": "@jupyter-widgets/base",
      "_view_module_version": "1.2.0",
      "_view_name": "StyleView",
      "bar_color": null,
      "description_width": ""
     }
    },
    "49be429f961a4fc99a6dc6a0ce1769bc": {
     "model_module": "@jupyter-widgets/controls",
     "model_module_version": "1.5.0",
     "model_name": "HBoxModel",
     "state": {
      "_dom_classes": [],
      "_model_module": "@jupyter-widgets/controls",
      "_model_module_version": "1.5.0",
      "_model_name": "HBoxModel",
      "_view_count": null,
      "_view_module": "@jupyter-widgets/controls",
      "_view_module_version": "1.5.0",
      "_view_name": "HBoxView",
      "box_style": "",
      "children": [
       "IPY_MODEL_670863c8f45c4263877c40d74b268829",
       "IPY_MODEL_1b15448385224917a3af14b6ddb8bd56",
       "IPY_MODEL_51173b3847d8445abd07cc51d838934a"
      ],
      "layout": "IPY_MODEL_f34e0f0bd3514af18400a15dee3dd889"
     }
    },
    "51173b3847d8445abd07cc51d838934a": {
     "model_module": "@jupyter-widgets/controls",
     "model_module_version": "1.5.0",
     "model_name": "HTMLModel",
     "state": {
      "_dom_classes": [],
      "_model_module": "@jupyter-widgets/controls",
      "_model_module_version": "1.5.0",
      "_model_name": "HTMLModel",
      "_view_count": null,
      "_view_module": "@jupyter-widgets/controls",
      "_view_module_version": "1.5.0",
      "_view_name": "HTMLView",
      "description": "",
      "description_tooltip": null,
      "layout": "IPY_MODEL_7ec862e2df4f4fc7bfd961a36abc626d",
      "placeholder": "​",
      "style": "IPY_MODEL_df603ae2560d4923bbd2d3af6c77fadb",
      "value": " 44.7M/44.7M [00:00&lt;00:00, 212MB/s]"
     }
    },
    "670863c8f45c4263877c40d74b268829": {
     "model_module": "@jupyter-widgets/controls",
     "model_module_version": "1.5.0",
     "model_name": "HTMLModel",
     "state": {
      "_dom_classes": [],
      "_model_module": "@jupyter-widgets/controls",
      "_model_module_version": "1.5.0",
      "_model_name": "HTMLModel",
      "_view_count": null,
      "_view_module": "@jupyter-widgets/controls",
      "_view_module_version": "1.5.0",
      "_view_name": "HTMLView",
      "description": "",
      "description_tooltip": null,
      "layout": "IPY_MODEL_191293883ba04ef1b213c587c6789458",
      "placeholder": "​",
      "style": "IPY_MODEL_ee549bdfa6e14e4fab994ed09a9bb7f1",
      "value": "100%"
     }
    },
    "7ec862e2df4f4fc7bfd961a36abc626d": {
     "model_module": "@jupyter-widgets/base",
     "model_module_version": "1.2.0",
     "model_name": "LayoutModel",
     "state": {
      "_model_module": "@jupyter-widgets/base",
      "_model_module_version": "1.2.0",
      "_model_name": "LayoutModel",
      "_view_count": null,
      "_view_module": "@jupyter-widgets/base",
      "_view_module_version": "1.2.0",
      "_view_name": "LayoutView",
      "align_content": null,
      "align_items": null,
      "align_self": null,
      "border": null,
      "bottom": null,
      "display": null,
      "flex": null,
      "flex_flow": null,
      "grid_area": null,
      "grid_auto_columns": null,
      "grid_auto_flow": null,
      "grid_auto_rows": null,
      "grid_column": null,
      "grid_gap": null,
      "grid_row": null,
      "grid_template_areas": null,
      "grid_template_columns": null,
      "grid_template_rows": null,
      "height": null,
      "justify_content": null,
      "justify_items": null,
      "left": null,
      "margin": null,
      "max_height": null,
      "max_width": null,
      "min_height": null,
      "min_width": null,
      "object_fit": null,
      "object_position": null,
      "order": null,
      "overflow": null,
      "overflow_x": null,
      "overflow_y": null,
      "padding": null,
      "right": null,
      "top": null,
      "visibility": null,
      "width": null
     }
    },
    "df603ae2560d4923bbd2d3af6c77fadb": {
     "model_module": "@jupyter-widgets/controls",
     "model_module_version": "1.5.0",
     "model_name": "DescriptionStyleModel",
     "state": {
      "_model_module": "@jupyter-widgets/controls",
      "_model_module_version": "1.5.0",
      "_model_name": "DescriptionStyleModel",
      "_view_count": null,
      "_view_module": "@jupyter-widgets/base",
      "_view_module_version": "1.2.0",
      "_view_name": "StyleView",
      "description_width": ""
     }
    },
    "e921ccbd962e4b449aae55f6da215387": {
     "model_module": "@jupyter-widgets/base",
     "model_module_version": "1.2.0",
     "model_name": "LayoutModel",
     "state": {
      "_model_module": "@jupyter-widgets/base",
      "_model_module_version": "1.2.0",
      "_model_name": "LayoutModel",
      "_view_count": null,
      "_view_module": "@jupyter-widgets/base",
      "_view_module_version": "1.2.0",
      "_view_name": "LayoutView",
      "align_content": null,
      "align_items": null,
      "align_self": null,
      "border": null,
      "bottom": null,
      "display": null,
      "flex": null,
      "flex_flow": null,
      "grid_area": null,
      "grid_auto_columns": null,
      "grid_auto_flow": null,
      "grid_auto_rows": null,
      "grid_column": null,
      "grid_gap": null,
      "grid_row": null,
      "grid_template_areas": null,
      "grid_template_columns": null,
      "grid_template_rows": null,
      "height": null,
      "justify_content": null,
      "justify_items": null,
      "left": null,
      "margin": null,
      "max_height": null,
      "max_width": null,
      "min_height": null,
      "min_width": null,
      "object_fit": null,
      "object_position": null,
      "order": null,
      "overflow": null,
      "overflow_x": null,
      "overflow_y": null,
      "padding": null,
      "right": null,
      "top": null,
      "visibility": null,
      "width": null
     }
    },
    "ee549bdfa6e14e4fab994ed09a9bb7f1": {
     "model_module": "@jupyter-widgets/controls",
     "model_module_version": "1.5.0",
     "model_name": "DescriptionStyleModel",
     "state": {
      "_model_module": "@jupyter-widgets/controls",
      "_model_module_version": "1.5.0",
      "_model_name": "DescriptionStyleModel",
      "_view_count": null,
      "_view_module": "@jupyter-widgets/base",
      "_view_module_version": "1.2.0",
      "_view_name": "StyleView",
      "description_width": ""
     }
    },
    "f34e0f0bd3514af18400a15dee3dd889": {
     "model_module": "@jupyter-widgets/base",
     "model_module_version": "1.2.0",
     "model_name": "LayoutModel",
     "state": {
      "_model_module": "@jupyter-widgets/base",
      "_model_module_version": "1.2.0",
      "_model_name": "LayoutModel",
      "_view_count": null,
      "_view_module": "@jupyter-widgets/base",
      "_view_module_version": "1.2.0",
      "_view_name": "LayoutView",
      "align_content": null,
      "align_items": null,
      "align_self": null,
      "border": null,
      "bottom": null,
      "display": null,
      "flex": null,
      "flex_flow": null,
      "grid_area": null,
      "grid_auto_columns": null,
      "grid_auto_flow": null,
      "grid_auto_rows": null,
      "grid_column": null,
      "grid_gap": null,
      "grid_row": null,
      "grid_template_areas": null,
      "grid_template_columns": null,
      "grid_template_rows": null,
      "height": null,
      "justify_content": null,
      "justify_items": null,
      "left": null,
      "margin": null,
      "max_height": null,
      "max_width": null,
      "min_height": null,
      "min_width": null,
      "object_fit": null,
      "object_position": null,
      "order": null,
      "overflow": null,
      "overflow_x": null,
      "overflow_y": null,
      "padding": null,
      "right": null,
      "top": null,
      "visibility": null,
      "width": null
     }
    }
   }
  }
 },
 "nbformat": 4,
 "nbformat_minor": 5
}
