{
 "cells": [
  {
   "cell_type": "code",
   "execution_count": 1,
   "id": "09d09206",
   "metadata": {},
   "outputs": [],
   "source": [
    "%load_ext autoreload\n",
    "%autoreload 2"
   ]
  },
  {
   "cell_type": "code",
   "execution_count": 2,
   "id": "bc0b8aba",
   "metadata": {},
   "outputs": [
    {
     "name": "stdout",
     "output_type": "stream",
     "text": [
      "C:\\Users\\tzeng1\\repos\\LIDC_GDRO\n"
     ]
    }
   ],
   "source": [
    "# cd .."
   ]
  },
  {
   "cell_type": "code",
   "execution_count": 62,
   "id": "11f750dd",
   "metadata": {},
   "outputs": [],
   "source": [
    "import pandas as pd\n",
    "import random"
   ]
  },
  {
   "cell_type": "code",
   "execution_count": 132,
   "id": "5554c9e9",
   "metadata": {},
   "outputs": [],
   "source": [
    "df_nodules = pd.read_csv('./data/train_test_splits/LIDC_data_split_old.csv', index_col=0)"
   ]
  },
  {
   "cell_type": "code",
   "execution_count": 133,
   "id": "966a0fbe",
   "metadata": {},
   "outputs": [],
   "source": [
    "df_study = pd.read_csv('./data/LIDC_20130817_AllFeatures2D_MaxSlicePerNodule_inLineRatings.csv')[['noduleID', 'StudyInstanceUID']]"
   ]
  },
  {
   "cell_type": "code",
   "execution_count": 134,
   "id": "fe43494b",
   "metadata": {},
   "outputs": [],
   "source": [
    "df_patient = pd.read_csv('./data/LIDC-IDRI_MetaData.csv')[['Subject ID', 'Study UID']]"
   ]
  },
  {
   "cell_type": "code",
   "execution_count": 135,
   "id": "fbebf818",
   "metadata": {},
   "outputs": [],
   "source": [
    "patient_id = []\n",
    "\n",
    "for id in df_study['StudyInstanceUID']:\n",
    "    patient_id.append(int(df_patient[df_patient['Study UID'] == id]['Subject ID'].values[0][-4:]))"
   ]
  },
  {
   "cell_type": "code",
   "execution_count": 136,
   "id": "f915c632",
   "metadata": {},
   "outputs": [],
   "source": [
    "df_study['patientID'] = patient_id "
   ]
  },
  {
   "cell_type": "code",
   "execution_count": 137,
   "id": "b3f3c08f",
   "metadata": {},
   "outputs": [],
   "source": [
    "pid = []\n",
    "for id in df_nodules['noduleID']:\n",
    "    pid.append(df_study[df_study['noduleID']==id]['patientID'].values[0])\n",
    "    "
   ]
  },
  {
   "cell_type": "code",
   "execution_count": 138,
   "id": "dcd95d45",
   "metadata": {},
   "outputs": [],
   "source": [
    "df_nodules['patientID'] = pid"
   ]
  },
  {
   "cell_type": "code",
   "execution_count": 149,
   "id": "0f6f198a",
   "metadata": {},
   "outputs": [],
   "source": [
    "ids = list(set(df_nodules['patientID']))"
   ]
  },
  {
   "cell_type": "code",
   "execution_count": 150,
   "id": "b9baf356",
   "metadata": {},
   "outputs": [
    {
     "data": {
      "text/plain": [
       "686"
      ]
     },
     "execution_count": 150,
     "metadata": {},
     "output_type": "execute_result"
    }
   ],
   "source": [
    "len(ids)"
   ]
  },
  {
   "cell_type": "code",
   "execution_count": 151,
   "id": "cd233186",
   "metadata": {},
   "outputs": [],
   "source": [
    "random.seed(9)\n",
    "random.shuffle(ids)"
   ]
  },
  {
   "cell_type": "code",
   "execution_count": 152,
   "id": "2d86bf6d",
   "metadata": {},
   "outputs": [],
   "source": [
    "tr = set(ids[:int(.7*len(ids))])\n",
    "cv = set(ids[int(.7*len(ids)):int(.8*len(ids))])\n",
    "# test = ids[int(.8*len(ids)):]"
   ]
  },
  {
   "cell_type": "code",
   "execution_count": 153,
   "id": "c2a8a33f",
   "metadata": {},
   "outputs": [],
   "source": [
    "split = []\n",
    "for id in df_nodules['patientID']:\n",
    "    if id in tr:\n",
    "        split.append(0)\n",
    "    elif id in cv:\n",
    "        split.append(1)\n",
    "    else:\n",
    "        split.append(2)"
   ]
  },
  {
   "cell_type": "code",
   "execution_count": 154,
   "id": "971ab6b0",
   "metadata": {},
   "outputs": [],
   "source": [
    "df_nodules['split'] = split"
   ]
  },
  {
   "cell_type": "code",
   "execution_count": 157,
   "id": "a4191744",
   "metadata": {},
   "outputs": [
    {
     "data": {
      "text/plain": [
       "1056"
      ]
     },
     "execution_count": 157,
     "metadata": {},
     "output_type": "execute_result"
    }
   ],
   "source": [
    "sum(df_nodules['split'] == 0)"
   ]
  },
  {
   "cell_type": "code",
   "execution_count": 163,
   "id": "6c9868fd",
   "metadata": {},
   "outputs": [],
   "source": [
    "df_nodules.drop(['patientID'], axis=1).to_csv('./data/train_test_splits/LIDC_data_split.csv')"
   ]
  },
  {
   "cell_type": "code",
   "execution_count": null,
   "id": "5b757504",
   "metadata": {},
   "outputs": [],
   "source": []
  }
 ],
 "metadata": {
  "kernelspec": {
   "display_name": "REU",
   "language": "python",
   "name": "reu"
  },
  "language_info": {
   "codemirror_mode": {
    "name": "ipython",
    "version": 3
   },
   "file_extension": ".py",
   "mimetype": "text/x-python",
   "name": "python",
   "nbconvert_exporter": "python",
   "pygments_lexer": "ipython3",
   "version": "3.10.5"
  }
 },
 "nbformat": 4,
 "nbformat_minor": 5
}
