{
 "cells": [
  {
   "cell_type": "code",
   "execution_count": 1,
   "id": "f125d24f",
   "metadata": {},
   "outputs": [],
   "source": [
    "%load_ext autoreload\n",
    "%autoreload 2"
   ]
  },
  {
   "cell_type": "code",
   "execution_count": 2,
   "id": "e29035b4",
   "metadata": {},
   "outputs": [
    {
     "name": "stdout",
     "output_type": "stream",
     "text": [
      "C:\\Users\\tzeng1\\repos\\LIDC_GDRO\n"
     ]
    }
   ],
   "source": [
    "# cd .."
   ]
  },
  {
   "cell_type": "code",
   "execution_count": 62,
   "id": "665d61e7",
   "metadata": {},
   "outputs": [],
   "source": [
    "import pandas as pd\n",
    "import random"
   ]
  },
  {
   "cell_type": "code",
   "execution_count": 132,
   "id": "721b78bc",
   "metadata": {},
   "outputs": [],
   "source": [
    "df_nodules = pd.read_csv('./data/train_test_splits/LIDC_data_split_old.csv', index_col=0)"
   ]
  },
  {
   "cell_type": "code",
   "execution_count": 133,
   "id": "d39f6c65",
   "metadata": {},
   "outputs": [],
   "source": [
    "df_study = pd.read_csv('./data/LIDC_20130817_AllFeatures2D_MaxSlicePerNodule_inLineRatings.csv')[['noduleID', 'StudyInstanceUID']]"
   ]
  },
  {
   "cell_type": "code",
   "execution_count": 134,
   "id": "32ec68c6",
   "metadata": {},
   "outputs": [],
   "source": [
    "df_patient = pd.read_csv('./data/LIDC-IDRI_MetaData.csv')[['Subject ID', 'Study UID']]"
   ]
  },
  {
   "cell_type": "code",
   "execution_count": 135,
   "id": "ea960643",
   "metadata": {},
   "outputs": [],
   "source": [
    "patient_id = []\n",
    "\n",
    "for id in df_study['StudyInstanceUID']:\n",
    "    patient_id.append(int(df_patient[df_patient['Study UID'] == id]['Subject ID'].values[0][-4:]))"
   ]
  },
  {
   "cell_type": "code",
   "execution_count": 136,
   "id": "85e63941",
   "metadata": {},
   "outputs": [],
   "source": [
    "df_study['patientID'] = patient_id "
   ]
  },
  {
   "cell_type": "code",
   "execution_count": 137,
   "id": "6e635936",
   "metadata": {},
   "outputs": [],
   "source": [
    "pid = []\n",
    "for id in df_nodules['noduleID']:\n",
    "    pid.append(df_study[df_study['noduleID']==id]['patientID'].values[0])\n",
    "    "
   ]
  },
  {
   "cell_type": "code",
   "execution_count": 138,
   "id": "bc26f940",
   "metadata": {},
   "outputs": [],
   "source": [
    "df_nodules['patientID'] = pid"
   ]
  },
  {
   "cell_type": "code",
   "execution_count": 149,
   "id": "f945c910",
   "metadata": {},
   "outputs": [],
   "source": [
    "ids = list(set(df_nodules['patientID']))"
   ]
  },
  {
   "cell_type": "code",
   "execution_count": 150,
   "id": "0a705819",
   "metadata": {},
   "outputs": [
    {
     "data": {
      "text/plain": [
       "686"
      ]
     },
     "execution_count": 150,
     "metadata": {},
     "output_type": "execute_result"
    }
   ],
   "source": [
    "len(ids)"
   ]
  },
  {
   "cell_type": "code",
   "execution_count": 151,
   "id": "2374bc01",
   "metadata": {},
   "outputs": [],
   "source": [
    "random.seed(9)\n",
    "random.shuffle(ids)"
   ]
  },
  {
   "cell_type": "code",
   "execution_count": 152,
   "id": "da62c1e8",
   "metadata": {},
   "outputs": [],
   "source": [
    "tr = set(ids[:int(.7*len(ids))])\n",
    "cv = set(ids[int(.7*len(ids)):int(.8*len(ids))])\n",
    "# test = ids[int(.8*len(ids)):]"
   ]
  },
  {
   "cell_type": "code",
   "execution_count": 153,
   "id": "6874fe84",
   "metadata": {},
   "outputs": [],
   "source": [
    "split = []\n",
    "for id in df_nodules['patientID']:\n",
    "    if id in tr:\n",
    "        split.append(0)\n",
    "    elif id in cv:\n",
    "        split.append(1)\n",
    "    else:\n",
    "        split.append(2)"
   ]
  },
  {
   "cell_type": "code",
   "execution_count": 154,
   "id": "0a3e29d7",
   "metadata": {},
   "outputs": [],
   "source": [
    "df_nodules['split'] = split"
   ]
  },
  {
   "cell_type": "code",
   "execution_count": 157,
   "id": "4ac7a466",
   "metadata": {},
   "outputs": [
    {
     "data": {
      "text/plain": [
       "1056"
      ]
     },
     "execution_count": 157,
     "metadata": {},
     "output_type": "execute_result"
    }
   ],
   "source": [
    "sum(df_nodules['split'] == 0)"
   ]
  },
  {
   "cell_type": "code",
   "execution_count": 163,
   "id": "c88b7e59",
   "metadata": {},
   "outputs": [],
   "source": [
    "df_nodules.drop(['patientID'], axis=1).to_csv('./data/train_test_splits/LIDC_data_split.csv')"
   ]
  },
  {
   "cell_type": "code",
   "execution_count": 167,
   "id": "dec6a73f",
   "metadata": {},
   "outputs": [
    {
     "data": {
      "text/html": [
       "<div>\n",
       "<style scoped>\n",
       "    .dataframe tbody tr th:only-of-type {\n",
       "        vertical-align: middle;\n",
       "    }\n",
       "\n",
       "    .dataframe tbody tr th {\n",
       "        vertical-align: top;\n",
       "    }\n",
       "\n",
       "    .dataframe thead th {\n",
       "        text-align: right;\n",
       "    }\n",
       "</style>\n",
       "<table border=\"1\" class=\"dataframe\">\n",
       "  <thead>\n",
       "    <tr style=\"text-align: right;\">\n",
       "      <th></th>\n",
       "      <th>noduleID</th>\n",
       "      <th>split</th>\n",
       "      <th>malignancy_b</th>\n",
       "      <th>spic_groups</th>\n",
       "      <th>patientID</th>\n",
       "    </tr>\n",
       "    <tr>\n",
       "      <th>malignancy</th>\n",
       "      <th></th>\n",
       "      <th></th>\n",
       "      <th></th>\n",
       "      <th></th>\n",
       "      <th></th>\n",
       "    </tr>\n",
       "  </thead>\n",
       "  <tbody>\n",
       "    <tr>\n",
       "      <th>0</th>\n",
       "      <td>63</td>\n",
       "      <td>63</td>\n",
       "      <td>63</td>\n",
       "      <td>63</td>\n",
       "      <td>63</td>\n",
       "    </tr>\n",
       "    <tr>\n",
       "      <th>1</th>\n",
       "      <td>101</td>\n",
       "      <td>101</td>\n",
       "      <td>101</td>\n",
       "      <td>101</td>\n",
       "      <td>101</td>\n",
       "    </tr>\n",
       "    <tr>\n",
       "      <th>2</th>\n",
       "      <td>67</td>\n",
       "      <td>67</td>\n",
       "      <td>67</td>\n",
       "      <td>67</td>\n",
       "      <td>67</td>\n",
       "    </tr>\n",
       "    <tr>\n",
       "      <th>3</th>\n",
       "      <td>58</td>\n",
       "      <td>58</td>\n",
       "      <td>58</td>\n",
       "      <td>58</td>\n",
       "      <td>58</td>\n",
       "    </tr>\n",
       "  </tbody>\n",
       "</table>\n",
       "</div>"
      ],
      "text/plain": [
       "            noduleID  split  malignancy_b  spic_groups  patientID\n",
       "malignancy                                                       \n",
       "0                 63     63            63           63         63\n",
       "1                101    101           101          101        101\n",
       "2                 67     67            67           67         67\n",
       "3                 58     58            58           58         58"
      ]
     },
     "execution_count": 167,
     "metadata": {},
     "output_type": "execute_result"
    }
   ],
   "source": [
    "df_nodules[df_nodules['split']==2].groupby(['malignancy']).count()"
   ]
  },
  {
   "cell_type": "code",
   "execution_count": null,
   "id": "f42c3b21",
   "metadata": {},
   "outputs": [],
   "source": []
  }
 ],
 "metadata": {
  "kernelspec": {
   "display_name": "REU",
   "language": "python",
   "name": "reu"
  },
  "language_info": {
   "codemirror_mode": {
    "name": "ipython",
    "version": 3
   },
   "file_extension": ".py",
   "mimetype": "text/x-python",
   "name": "python",
   "nbconvert_exporter": "python",
   "pygments_lexer": "ipython3",
   "version": "3.10.5"
  }
 },
 "nbformat": 4,
 "nbformat_minor": 5
}
