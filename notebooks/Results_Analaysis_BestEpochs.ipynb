{
 "cells": [
  {
   "cell_type": "code",
   "execution_count": 1,
   "id": "c1f7792c",
   "metadata": {},
   "outputs": [],
   "source": [
    "%load_ext autoreload\n",
    "%autoreload 2"
   ]
  },
  {
   "cell_type": "code",
   "execution_count": 2,
   "id": "094c5d80",
   "metadata": {},
   "outputs": [],
   "source": [
    "import matplotlib.pyplot as plt\n",
    "import pandas as pd\n",
    "from scipy.stats import ttest_ind"
   ]
  },
  {
   "cell_type": "code",
   "execution_count": 3,
   "id": "a348a90d",
   "metadata": {},
   "outputs": [
    {
     "name": "stdout",
     "output_type": "stream",
     "text": [
      "D:\\LIDC_GDRO_UseValidation\n"
     ]
    }
   ],
   "source": [
    "cd .."
   ]
  },
  {
   "cell_type": "code",
   "execution_count": 76,
   "id": "8b612883",
   "metadata": {},
   "outputs": [],
   "source": [
    "# .csv to load results from\n",
    "load_path = 'test_results/Designed_malignancy_45epochs_sameParameters_BESTdro_worst_20221009_173213/BEST_accuracies.csv'\n",
    "loaded_accuracies = pd.read_csv(load_path)"
   ]
  },
  {
   "cell_type": "code",
   "execution_count": 77,
   "id": "3dcd596d",
   "metadata": {},
   "outputs": [
    {
     "data": {
      "text/html": [
       "<div>\n",
       "<style scoped>\n",
       "    .dataframe tbody tr th:only-of-type {\n",
       "        vertical-align: middle;\n",
       "    }\n",
       "\n",
       "    .dataframe tbody tr th {\n",
       "        vertical-align: top;\n",
       "    }\n",
       "\n",
       "    .dataframe thead th {\n",
       "        text-align: right;\n",
       "    }\n",
       "</style>\n",
       "<table border=\"1\" class=\"dataframe\">\n",
       "  <thead>\n",
       "    <tr style=\"text-align: right;\">\n",
       "      <th></th>\n",
       "      <th>trial</th>\n",
       "      <th>subtype</th>\n",
       "      <th>ERMLoss</th>\n",
       "      <th>GDROLoss</th>\n",
       "    </tr>\n",
       "  </thead>\n",
       "  <tbody>\n",
       "    <tr>\n",
       "      <th>0</th>\n",
       "      <td>0</td>\n",
       "      <td>Overall</td>\n",
       "      <td>0.867110</td>\n",
       "      <td>0.827243</td>\n",
       "    </tr>\n",
       "    <tr>\n",
       "      <th>1</th>\n",
       "      <td>0</td>\n",
       "      <td>Highly Unlikely</td>\n",
       "      <td>0.941176</td>\n",
       "      <td>0.867647</td>\n",
       "    </tr>\n",
       "    <tr>\n",
       "      <th>2</th>\n",
       "      <td>0</td>\n",
       "      <td>Moderately Unlikely</td>\n",
       "      <td>0.893805</td>\n",
       "      <td>0.743363</td>\n",
       "    </tr>\n",
       "    <tr>\n",
       "      <th>3</th>\n",
       "      <td>0</td>\n",
       "      <td>Moderately Suspicious</td>\n",
       "      <td>0.666667</td>\n",
       "      <td>0.805556</td>\n",
       "    </tr>\n",
       "    <tr>\n",
       "      <th>4</th>\n",
       "      <td>0</td>\n",
       "      <td>Highly Suspicious</td>\n",
       "      <td>1.000000</td>\n",
       "      <td>1.000000</td>\n",
       "    </tr>\n",
       "    <tr>\n",
       "      <th>...</th>\n",
       "      <td>...</td>\n",
       "      <td>...</td>\n",
       "      <td>...</td>\n",
       "      <td>...</td>\n",
       "    </tr>\n",
       "    <tr>\n",
       "      <th>145</th>\n",
       "      <td>29</td>\n",
       "      <td>Overall</td>\n",
       "      <td>0.847176</td>\n",
       "      <td>0.857143</td>\n",
       "    </tr>\n",
       "    <tr>\n",
       "      <th>146</th>\n",
       "      <td>29</td>\n",
       "      <td>Highly Unlikely</td>\n",
       "      <td>0.941176</td>\n",
       "      <td>0.941176</td>\n",
       "    </tr>\n",
       "    <tr>\n",
       "      <th>147</th>\n",
       "      <td>29</td>\n",
       "      <td>Moderately Unlikely</td>\n",
       "      <td>0.858407</td>\n",
       "      <td>0.849558</td>\n",
       "    </tr>\n",
       "    <tr>\n",
       "      <th>148</th>\n",
       "      <td>29</td>\n",
       "      <td>Moderately Suspicious</td>\n",
       "      <td>0.638889</td>\n",
       "      <td>0.694444</td>\n",
       "    </tr>\n",
       "    <tr>\n",
       "      <th>149</th>\n",
       "      <td>29</td>\n",
       "      <td>Highly Suspicious</td>\n",
       "      <td>1.000000</td>\n",
       "      <td>1.000000</td>\n",
       "    </tr>\n",
       "  </tbody>\n",
       "</table>\n",
       "<p>150 rows × 4 columns</p>\n",
       "</div>"
      ],
      "text/plain": [
       "     trial                subtype   ERMLoss  GDROLoss\n",
       "0        0                Overall  0.867110  0.827243\n",
       "1        0        Highly Unlikely  0.941176  0.867647\n",
       "2        0    Moderately Unlikely  0.893805  0.743363\n",
       "3        0  Moderately Suspicious  0.666667  0.805556\n",
       "4        0      Highly Suspicious  1.000000  1.000000\n",
       "..     ...                    ...       ...       ...\n",
       "145     29                Overall  0.847176  0.857143\n",
       "146     29        Highly Unlikely  0.941176  0.941176\n",
       "147     29    Moderately Unlikely  0.858407  0.849558\n",
       "148     29  Moderately Suspicious  0.638889  0.694444\n",
       "149     29      Highly Suspicious  1.000000  1.000000\n",
       "\n",
       "[150 rows x 4 columns]"
      ]
     },
     "execution_count": 77,
     "metadata": {},
     "output_type": "execute_result"
    }
   ],
   "source": [
    "loaded_accuracies"
   ]
  },
  {
   "cell_type": "code",
   "execution_count": 78,
   "id": "185fd658",
   "metadata": {},
   "outputs": [],
   "source": [
    "import scipy.stats as st\n",
    "import numpy as np\n",
    "import scipy.stats as stats\n",
    "\n",
    "def Average(lst):\n",
    "    return sum(lst) / len(lst)\n",
    "\n",
    "def report_CI(temp_list):\n",
    "    return st.t.interval(alpha=0.95, df=len(temp_list)-1, loc=np.mean(temp_list), scale=st.sem(temp_list)) "
   ]
  },
  {
   "cell_type": "markdown",
   "id": "7b9719b3",
   "metadata": {},
   "source": [
    "## Malignancy as subclass labels"
   ]
  },
  {
   "cell_type": "code",
   "execution_count": 84,
   "id": "d57bc7e9",
   "metadata": {},
   "outputs": [
    {
     "name": "stdout",
     "output_type": "stream",
     "text": [
      "0.8575858250276855\n",
      "(0.8499403999640395, 0.8652312500913316)\n",
      "0.8537098560354376\n",
      "(0.842455021003969, 0.8649646910669062)\n",
      "False\n"
     ]
    }
   ],
   "source": [
    "overall_accuracy_erm = loaded_accuracies[loaded_accuracies['subtype'] == 'Overall']['ERMLoss'].values\n",
    "overall_accuracy_dro = loaded_accuracies[loaded_accuracies['subtype'] == 'Overall']['GDROLoss'].values\n",
    "\n",
    "\n",
    "print(Average(overall_accuracy_erm))\n",
    "print(report_CI(overall_accuracy_erm))\n",
    "\n",
    "print(Average(overall_accuracy_dro))\n",
    "print(report_CI(overall_accuracy_dro))\n",
    "\n",
    "\n",
    "\n",
    "print(stats.ttest_ind(overall_accuracy_erm,overall_accuracy_dro)[1] <= 0.05)"
   ]
  },
  {
   "cell_type": "code",
   "execution_count": 85,
   "id": "5df65a05",
   "metadata": {},
   "outputs": [
    {
     "name": "stdout",
     "output_type": "stream",
     "text": [
      "0.931862745098039\n",
      "(0.9203727882295692, 0.9433527019665088)\n",
      "0.9161764705882351\n",
      "(0.8969827523281059, 0.9353701888483644)\n",
      "False\n"
     ]
    }
   ],
   "source": [
    "Highly_Unlikely_erm = loaded_accuracies[loaded_accuracies['subtype'] == 'Highly Unlikely']['ERMLoss'].values\n",
    "Highly_Unlikely_dro = loaded_accuracies[loaded_accuracies['subtype'] == 'Highly Unlikely']['GDROLoss'].values\n",
    "\n",
    "\n",
    "print(Average(Highly_Unlikely_erm))\n",
    "print(report_CI(Highly_Unlikely_erm))\n",
    "\n",
    "print(Average(Highly_Unlikely_dro))\n",
    "print(report_CI(Highly_Unlikely_dro))\n",
    "\n",
    "print(stats.ttest_ind(Highly_Unlikely_erm,Highly_Unlikely_dro)[1] <= 0.05)"
   ]
  },
  {
   "cell_type": "code",
   "execution_count": 86,
   "id": "b923f695",
   "metadata": {},
   "outputs": [
    {
     "name": "stdout",
     "output_type": "stream",
     "text": [
      "0.8967551622418877\n",
      "(0.8849411946563489, 0.9085691298274267)\n",
      "0.8427728613569322\n",
      "(0.8255544721234728, 0.8599912505903916)\n",
      "True\n"
     ]
    }
   ],
   "source": [
    "Moderately_Unlikely_erm = loaded_accuracies[loaded_accuracies['subtype'] == 'Moderately Unlikely']['ERMLoss'].values\n",
    "Moderately_Unlikely_dro = loaded_accuracies[loaded_accuracies['subtype'] == 'Moderately Unlikely']['GDROLoss'].values\n",
    "\n",
    "\n",
    "print(Average(Moderately_Unlikely_erm))\n",
    "print(report_CI(Moderately_Unlikely_erm))\n",
    "\n",
    "print(Average(Moderately_Unlikely_dro))\n",
    "print(report_CI(Moderately_Unlikely_dro))\n",
    "\n",
    "print(stats.ttest_ind(Moderately_Unlikely_erm,Moderately_Unlikely_dro)[1] <= 0.05)"
   ]
  },
  {
   "cell_type": "code",
   "execution_count": 87,
   "id": "694ad5d9",
   "metadata": {},
   "outputs": [
    {
     "name": "stdout",
     "output_type": "stream",
     "text": [
      "0.6453703703703705\n",
      "(0.6279962344901997, 0.6627445062505413)\n",
      "0.722685185185185\n",
      "(0.7055936035827916, 0.7397767667875784)\n",
      "True\n"
     ]
    }
   ],
   "source": [
    "Moderately_Suspicious_erm = loaded_accuracies[loaded_accuracies['subtype'] == 'Moderately Suspicious']['ERMLoss'].values\n",
    "Moderately_Suspicious_dro = loaded_accuracies[loaded_accuracies['subtype'] == 'Moderately Suspicious']['GDROLoss'].values\n",
    "\n",
    "\n",
    "print(Average(Moderately_Suspicious_erm))\n",
    "print(report_CI(Moderately_Suspicious_erm))\n",
    "\n",
    "print(Average(Moderately_Suspicious_dro))\n",
    "print(report_CI(Moderately_Suspicious_dro))\n",
    "\n",
    "print(stats.ttest_ind(Moderately_Suspicious_erm,Moderately_Suspicious_dro)[1] <= 0.05)"
   ]
  },
  {
   "cell_type": "code",
   "execution_count": 88,
   "id": "16b2f97c",
   "metadata": {},
   "outputs": [
    {
     "name": "stdout",
     "output_type": "stream",
     "text": [
      "0.9784722222222223\n",
      "(0.9712541454613544, 0.9856902989830902)\n",
      "0.9875000000000002\n",
      "(0.9808486600492695, 0.9941513399507306)\n",
      "True\n"
     ]
    }
   ],
   "source": [
    "Highly_Suspicious_erm = loaded_accuracies[loaded_accuracies['subtype'] == 'Highly Suspicious']['ERMLoss'].values\n",
    "Highly_Suspicious_dro = loaded_accuracies[loaded_accuracies['subtype'] == 'Highly Suspicious']['GDROLoss'].values\n",
    "\n",
    "\n",
    "\n",
    "print(Average(Highly_Suspicious_erm))\n",
    "print(report_CI(Highly_Suspicious_erm))\n",
    "\n",
    "print(Average(Highly_Suspicious_dro ))\n",
    "print(report_CI(Highly_Suspicious_dro ))\n",
    "\n",
    "print(stats.ttest_ind(Moderately_Suspicious_erm,Moderately_Suspicious_dro)[1] <= 0.05)"
   ]
  },
  {
   "cell_type": "code",
   "execution_count": null,
   "id": "a892f99e",
   "metadata": {},
   "outputs": [],
   "source": []
  },
  {
   "cell_type": "code",
   "execution_count": null,
   "id": "0c4388fe",
   "metadata": {},
   "outputs": [],
   "source": []
  },
  {
   "cell_type": "code",
   "execution_count": null,
   "id": "c3692a13",
   "metadata": {},
   "outputs": [],
   "source": []
  },
  {
   "cell_type": "code",
   "execution_count": null,
   "id": "c7765393",
   "metadata": {},
   "outputs": [],
   "source": []
  },
  {
   "cell_type": "code",
   "execution_count": null,
   "id": "39c9394c",
   "metadata": {},
   "outputs": [],
   "source": []
  },
  {
   "cell_type": "code",
   "execution_count": null,
   "id": "0c4d93e8",
   "metadata": {},
   "outputs": [],
   "source": []
  },
  {
   "cell_type": "code",
   "execution_count": null,
   "id": "1655d782",
   "metadata": {},
   "outputs": [],
   "source": []
  },
  {
   "cell_type": "code",
   "execution_count": null,
   "id": "a4036708",
   "metadata": {},
   "outputs": [],
   "source": []
  },
  {
   "cell_type": "code",
   "execution_count": null,
   "id": "1547635f",
   "metadata": {},
   "outputs": [],
   "source": []
  },
  {
   "cell_type": "code",
   "execution_count": null,
   "id": "e530aafe",
   "metadata": {},
   "outputs": [],
   "source": []
  },
  {
   "cell_type": "code",
   "execution_count": null,
   "id": "6578cc5f",
   "metadata": {},
   "outputs": [],
   "source": []
  },
  {
   "cell_type": "code",
   "execution_count": null,
   "id": "b0c43375",
   "metadata": {},
   "outputs": [],
   "source": []
  },
  {
   "cell_type": "code",
   "execution_count": null,
   "id": "eac33132",
   "metadata": {},
   "outputs": [],
   "source": []
  },
  {
   "cell_type": "markdown",
   "id": "6ac0af2e",
   "metadata": {},
   "source": [
    "## Spiculation as subclass labels"
   ]
  },
  {
   "cell_type": "code",
   "execution_count": 52,
   "id": "8ffbe1d8",
   "metadata": {},
   "outputs": [],
   "source": [
    "overall_accuracy_erm = loaded_accuracies[loaded_accuracies['subtype'] == 'Overall']['ERMLoss'].values\n",
    "overall_accuracy_dro = loaded_accuracies[loaded_accuracies['subtype'] == 'Overall']['GDROLoss'].values"
   ]
  },
  {
   "cell_type": "code",
   "execution_count": 53,
   "id": "d78b8090",
   "metadata": {},
   "outputs": [
    {
     "name": "stdout",
     "output_type": "stream",
     "text": [
      "0.8558139534883722\n",
      "(0.8480250366946166, 0.8636028702821278)\n"
     ]
    }
   ],
   "source": [
    "print(Average(overall_accuracy_erm))\n",
    "print(report_CI(overall_accuracy_erm))"
   ]
  },
  {
   "cell_type": "code",
   "execution_count": 54,
   "id": "9c8f7124",
   "metadata": {},
   "outputs": [
    {
     "name": "stdout",
     "output_type": "stream",
     "text": [
      "0.8519379844961242\n",
      "(0.8412828590059188, 0.8625931099863292)\n"
     ]
    }
   ],
   "source": [
    "print(Average(overall_accuracy_dro))\n",
    "print(report_CI(overall_accuracy_dro))"
   ]
  },
  {
   "cell_type": "code",
   "execution_count": 55,
   "id": "1789c357",
   "metadata": {},
   "outputs": [
    {
     "data": {
      "text/plain": [
       "False"
      ]
     },
     "execution_count": 55,
     "metadata": {},
     "output_type": "execute_result"
    }
   ],
   "source": [
    "stats.ttest_ind(overall_accuracy_erm,overall_accuracy_dro)[1] <= 0.05"
   ]
  },
  {
   "cell_type": "code",
   "execution_count": 56,
   "id": "eac3f5da",
   "metadata": {},
   "outputs": [],
   "source": [
    "Unspiculated_Benign_erm = loaded_accuracies[loaded_accuracies['subtype'] == 'Unspiculated benign']['ERMLoss'].values\n",
    "Unspiculated_Benign_dro = loaded_accuracies[loaded_accuracies['subtype'] == 'Unspiculated benign']['GDROLoss'].values"
   ]
  },
  {
   "cell_type": "code",
   "execution_count": 57,
   "id": "f52e0c6a",
   "metadata": {},
   "outputs": [
    {
     "name": "stdout",
     "output_type": "stream",
     "text": [
      "0.9229247528780579\n",
      "(0.9134378461582751, 0.9324116595978402)\n",
      "0.8860473097110994\n",
      "(0.8657236607766534, 0.9063709586455453)\n"
     ]
    }
   ],
   "source": [
    "print(Average(Unspiculated_Benign_erm))\n",
    "print(report_CI(Unspiculated_Benign_erm))\n",
    "\n",
    "print(Average(Unspiculated_Benign_dro))\n",
    "print(report_CI(Unspiculated_Benign_dro))"
   ]
  },
  {
   "cell_type": "code",
   "execution_count": 58,
   "id": "759a3a97",
   "metadata": {},
   "outputs": [
    {
     "data": {
      "text/plain": [
       "True"
      ]
     },
     "execution_count": 58,
     "metadata": {},
     "output_type": "execute_result"
    }
   ],
   "source": [
    "stats.ttest_ind(Unspiculated_Benign_erm,Unspiculated_Benign_dro)[1] <= 0.05"
   ]
  },
  {
   "cell_type": "code",
   "execution_count": 59,
   "id": "67664ae0",
   "metadata": {},
   "outputs": [],
   "source": [
    "Spiculated_Benign_erm = loaded_accuracies[loaded_accuracies['subtype'] == 'Spiculated benign']['ERMLoss'].values\n",
    "Spiculated_Benign_dro = loaded_accuracies[loaded_accuracies['subtype'] == 'Spiculated benign']['GDROLoss'].values"
   ]
  },
  {
   "cell_type": "code",
   "execution_count": 60,
   "id": "bb1e20d4",
   "metadata": {},
   "outputs": [
    {
     "name": "stdout",
     "output_type": "stream",
     "text": [
      "0.8148978141019914\n",
      "(0.79189523174985, 0.837900396454133)\n",
      "0.7562874913983966\n",
      "(0.7201567198827771, 0.7924182629140158)\n"
     ]
    }
   ],
   "source": [
    "print(Average(Spiculated_Benign_erm))\n",
    "print(report_CI(Spiculated_Benign_erm))\n",
    "\n",
    "print(Average(Spiculated_Benign_dro))\n",
    "print(report_CI(Spiculated_Benign_dro))"
   ]
  },
  {
   "cell_type": "code",
   "execution_count": 61,
   "id": "9a331ecf",
   "metadata": {},
   "outputs": [
    {
     "data": {
      "text/plain": [
       "True"
      ]
     },
     "execution_count": 61,
     "metadata": {},
     "output_type": "execute_result"
    }
   ],
   "source": [
    "stats.ttest_ind(Spiculated_Benign_erm,Spiculated_Benign_dro)[1] <= 0.05"
   ]
  },
  {
   "cell_type": "code",
   "execution_count": 62,
   "id": "87034ff4",
   "metadata": {},
   "outputs": [],
   "source": [
    "Spiculated_malignant_erm = loaded_accuracies[loaded_accuracies['subtype'] == 'Spiculated malignant']['ERMLoss'].values\n",
    "Spiculated_malignant_dro = loaded_accuracies[loaded_accuracies['subtype'] == 'Spiculated malignant']['GDROLoss'].values"
   ]
  },
  {
   "cell_type": "code",
   "execution_count": 63,
   "id": "7025684c",
   "metadata": {},
   "outputs": [
    {
     "name": "stdout",
     "output_type": "stream",
     "text": [
      "0.8495211409885723\n",
      "(0.8333440312234847, 0.8656982507536598)\n",
      "0.8791165772572264\n",
      "(0.8666501241542927, 0.8915830303601601)\n"
     ]
    }
   ],
   "source": [
    "print(Average(Spiculated_malignant_erm))\n",
    "print(report_CI(Spiculated_malignant_erm))\n",
    "\n",
    "print(Average(Spiculated_malignant_dro))\n",
    "print(report_CI(Spiculated_malignant_dro))"
   ]
  },
  {
   "cell_type": "code",
   "execution_count": 64,
   "id": "912fcce0",
   "metadata": {},
   "outputs": [
    {
     "data": {
      "text/plain": [
       "True"
      ]
     },
     "execution_count": 64,
     "metadata": {},
     "output_type": "execute_result"
    }
   ],
   "source": [
    "stats.ttest_ind(Spiculated_malignant_erm,Spiculated_malignant_dro)[1] <= 0.05"
   ]
  },
  {
   "cell_type": "code",
   "execution_count": 65,
   "id": "48ea389c",
   "metadata": {},
   "outputs": [],
   "source": [
    "Unspiculated_malignant_erm = loaded_accuracies[loaded_accuracies['subtype'] == 'Unspiculated malignant']['ERMLoss'].values\n",
    "Unspiculated_malignant_dro = loaded_accuracies[loaded_accuracies['subtype'] == 'Unspiculated malignant']['GDROLoss'].values"
   ]
  },
  {
   "cell_type": "code",
   "execution_count": 66,
   "id": "0b1dc29a",
   "metadata": {},
   "outputs": [
    {
     "name": "stdout",
     "output_type": "stream",
     "text": [
      "0.6418793158398434\n",
      "(0.616311093169569, 0.6674475385101177)\n",
      "0.7293428495941677\n",
      "(0.705354928683032, 0.7533307705053033)\n"
     ]
    }
   ],
   "source": [
    "print(Average(Unspiculated_malignant_erm))\n",
    "print(report_CI(Unspiculated_malignant_erm))\n",
    "\n",
    "print(Average(Unspiculated_malignant_dro ))\n",
    "print(report_CI(Unspiculated_malignant_dro))"
   ]
  },
  {
   "cell_type": "code",
   "execution_count": 67,
   "id": "2da28707",
   "metadata": {},
   "outputs": [
    {
     "data": {
      "text/plain": [
       "True"
      ]
     },
     "execution_count": 67,
     "metadata": {},
     "output_type": "execute_result"
    }
   ],
   "source": [
    "stats.ttest_ind(Unspiculated_malignant_erm,Unspiculated_malignant_dro)[1] <= 0.05"
   ]
  },
  {
   "cell_type": "code",
   "execution_count": null,
   "id": "2f606dd9",
   "metadata": {},
   "outputs": [],
   "source": []
  },
  {
   "cell_type": "code",
   "execution_count": null,
   "id": "c105cb3e",
   "metadata": {},
   "outputs": [],
   "source": []
  },
  {
   "cell_type": "markdown",
   "id": "109e07b5",
   "metadata": {},
   "source": [
    "## Clustering as subclass labels"
   ]
  },
  {
   "cell_type": "code",
   "execution_count": 24,
   "id": "aba58d7a",
   "metadata": {},
   "outputs": [],
   "source": [
    "overall_accuracy_erm = loaded_accuracies[loaded_accuracies['subtype'] == 'Overall']['ERMLoss'].values"
   ]
  },
  {
   "cell_type": "code",
   "execution_count": 25,
   "id": "f510beee",
   "metadata": {},
   "outputs": [],
   "source": [
    "overall_accuracy_dro = loaded_accuracies[loaded_accuracies['subtype'] == 'Overall']['GDROLoss'].values"
   ]
  },
  {
   "cell_type": "code",
   "execution_count": 26,
   "id": "8f102a0c",
   "metadata": {},
   "outputs": [
    {
     "name": "stdout",
     "output_type": "stream",
     "text": [
      "0.8501661129568105\n",
      "(0.8420518449552351, 0.8582803809583862)\n"
     ]
    }
   ],
   "source": [
    "print(Average(overall_accuracy_erm))\n",
    "print(report_CI(overall_accuracy_erm))"
   ]
  },
  {
   "cell_type": "code",
   "execution_count": 27,
   "id": "67fba040",
   "metadata": {},
   "outputs": [
    {
     "name": "stdout",
     "output_type": "stream",
     "text": [
      "0.8378737541528238\n",
      "(0.8294008410208245, 0.8463466672848232)\n"
     ]
    }
   ],
   "source": [
    "print(Average(overall_accuracy_dro))\n",
    "print(report_CI(overall_accuracy_dro))"
   ]
  },
  {
   "cell_type": "code",
   "execution_count": 28,
   "id": "500010c3",
   "metadata": {},
   "outputs": [
    {
     "data": {
      "text/plain": [
       "True"
      ]
     },
     "execution_count": 28,
     "metadata": {},
     "output_type": "execute_result"
    }
   ],
   "source": [
    "stats.ttest_ind(overall_accuracy_erm,overall_accuracy_dro)[1] <= 0.05"
   ]
  },
  {
   "cell_type": "code",
   "execution_count": 29,
   "id": "5fdd5399",
   "metadata": {},
   "outputs": [],
   "source": [
    "Predominantly_Benign_erm = loaded_accuracies[loaded_accuracies['subtype'] == 'Predominantly Benign']['ERMLoss'].values\n",
    "Predominantly_Benign_dro = loaded_accuracies[loaded_accuracies['subtype'] == 'Predominantly Benign']['GDROLoss'].values"
   ]
  },
  {
   "cell_type": "code",
   "execution_count": 30,
   "id": "856333ba",
   "metadata": {},
   "outputs": [
    {
     "ename": "ZeroDivisionError",
     "evalue": "division by zero",
     "output_type": "error",
     "traceback": [
      "\u001b[1;31m---------------------------------------------------------------------------\u001b[0m",
      "\u001b[1;31mZeroDivisionError\u001b[0m                         Traceback (most recent call last)",
      "\u001b[1;32m~\\AppData\\Local\\Temp\\ipykernel_10716\\1789537944.py\u001b[0m in \u001b[0;36m<module>\u001b[1;34m\u001b[0m\n\u001b[1;32m----> 1\u001b[1;33m \u001b[0mprint\u001b[0m\u001b[1;33m(\u001b[0m\u001b[0mAverage\u001b[0m\u001b[1;33m(\u001b[0m\u001b[0mPredominantly_Benign_erm\u001b[0m\u001b[1;33m)\u001b[0m\u001b[1;33m)\u001b[0m\u001b[1;33m\u001b[0m\u001b[1;33m\u001b[0m\u001b[0m\n\u001b[0m\u001b[0;32m      2\u001b[0m \u001b[0mprint\u001b[0m\u001b[1;33m(\u001b[0m\u001b[0mreport_CI\u001b[0m\u001b[1;33m(\u001b[0m\u001b[0mPredominantly_Benign_erm\u001b[0m\u001b[1;33m)\u001b[0m\u001b[1;33m)\u001b[0m\u001b[1;33m\u001b[0m\u001b[1;33m\u001b[0m\u001b[0m\n\u001b[0;32m      3\u001b[0m \u001b[1;33m\u001b[0m\u001b[0m\n\u001b[0;32m      4\u001b[0m \u001b[0mprint\u001b[0m\u001b[1;33m(\u001b[0m\u001b[0mAverage\u001b[0m\u001b[1;33m(\u001b[0m\u001b[0mPredominantly_Benign_dro\u001b[0m\u001b[1;33m)\u001b[0m\u001b[1;33m)\u001b[0m\u001b[1;33m\u001b[0m\u001b[1;33m\u001b[0m\u001b[0m\n\u001b[0;32m      5\u001b[0m \u001b[0mprint\u001b[0m\u001b[1;33m(\u001b[0m\u001b[0mreport_CI\u001b[0m\u001b[1;33m(\u001b[0m\u001b[0mPredominantly_Benign_dro\u001b[0m\u001b[1;33m)\u001b[0m\u001b[1;33m)\u001b[0m\u001b[1;33m\u001b[0m\u001b[1;33m\u001b[0m\u001b[0m\n",
      "\u001b[1;32m~\\AppData\\Local\\Temp\\ipykernel_10716\\3371722677.py\u001b[0m in \u001b[0;36mAverage\u001b[1;34m(lst)\u001b[0m\n\u001b[0;32m      4\u001b[0m \u001b[1;33m\u001b[0m\u001b[0m\n\u001b[0;32m      5\u001b[0m \u001b[1;32mdef\u001b[0m \u001b[0mAverage\u001b[0m\u001b[1;33m(\u001b[0m\u001b[0mlst\u001b[0m\u001b[1;33m)\u001b[0m\u001b[1;33m:\u001b[0m\u001b[1;33m\u001b[0m\u001b[1;33m\u001b[0m\u001b[0m\n\u001b[1;32m----> 6\u001b[1;33m     \u001b[1;32mreturn\u001b[0m \u001b[0msum\u001b[0m\u001b[1;33m(\u001b[0m\u001b[0mlst\u001b[0m\u001b[1;33m)\u001b[0m \u001b[1;33m/\u001b[0m \u001b[0mlen\u001b[0m\u001b[1;33m(\u001b[0m\u001b[0mlst\u001b[0m\u001b[1;33m)\u001b[0m\u001b[1;33m\u001b[0m\u001b[1;33m\u001b[0m\u001b[0m\n\u001b[0m\u001b[0;32m      7\u001b[0m \u001b[1;33m\u001b[0m\u001b[0m\n\u001b[0;32m      8\u001b[0m \u001b[1;32mdef\u001b[0m \u001b[0mreport_CI\u001b[0m\u001b[1;33m(\u001b[0m\u001b[0mtemp_list\u001b[0m\u001b[1;33m)\u001b[0m\u001b[1;33m:\u001b[0m\u001b[1;33m\u001b[0m\u001b[1;33m\u001b[0m\u001b[0m\n",
      "\u001b[1;31mZeroDivisionError\u001b[0m: division by zero"
     ]
    }
   ],
   "source": [
    "print(Average(Predominantly_Benign_erm))\n",
    "print(report_CI(Predominantly_Benign_erm))\n",
    "\n",
    "print(Average(Predominantly_Benign_dro))\n",
    "print(report_CI(Predominantly_Benign_dro))"
   ]
  },
  {
   "cell_type": "code",
   "execution_count": 14,
   "id": "ca5c5254",
   "metadata": {},
   "outputs": [
    {
     "data": {
      "text/plain": [
       "False"
      ]
     },
     "execution_count": 14,
     "metadata": {},
     "output_type": "execute_result"
    }
   ],
   "source": [
    "stats.ttest_ind(Predominantly_Benign_erm,Predominantly_Benign_dro)[1] <= 0.05"
   ]
  },
  {
   "cell_type": "code",
   "execution_count": 15,
   "id": "b057963a",
   "metadata": {},
   "outputs": [
    {
     "name": "stdout",
     "output_type": "stream",
     "text": [
      "0.8796106868881899\n",
      "(0.8679401502222363, 0.8912812235541435)\n",
      "0.8274898207599265\n",
      "(0.8091821862247004, 0.8457974552951522)\n"
     ]
    }
   ],
   "source": [
    "Somewhat_Benign_erm = loaded_accuracies[loaded_accuracies['subtype'] == 'Somewhat Benign']['ERMLoss'].values\n",
    "Somewhat_Benign_dro = loaded_accuracies[loaded_accuracies['subtype'] == 'Somewhat Benign']['GDROLoss'].values\n",
    "\n",
    "print(Average(Somewhat_Benign_erm))\n",
    "print(report_CI(Somewhat_Benign_erm))\n",
    "\n",
    "print(Average(Somewhat_Benign_dro))\n",
    "print(report_CI(Somewhat_Benign_dro))"
   ]
  },
  {
   "cell_type": "code",
   "execution_count": 16,
   "id": "0e88d1a3",
   "metadata": {},
   "outputs": [
    {
     "data": {
      "text/plain": [
       "True"
      ]
     },
     "execution_count": 16,
     "metadata": {},
     "output_type": "execute_result"
    }
   ],
   "source": [
    "stats.ttest_ind(Somewhat_Benign_erm,Somewhat_Benign_dro)[1] <= 0.05"
   ]
  },
  {
   "cell_type": "code",
   "execution_count": 17,
   "id": "4d03d761",
   "metadata": {},
   "outputs": [
    {
     "name": "stdout",
     "output_type": "stream",
     "text": [
      "0.6613161917366572\n",
      "(0.6423688858288059, 0.6802634976445083)\n",
      "0.727604475460024\n",
      "(0.7093105573121499, 0.7458983936078984)\n"
     ]
    }
   ],
   "source": [
    "Somewhat_Malignant_erm = loaded_accuracies[loaded_accuracies['subtype'] == 'Somewhat Malignant']['ERMLoss'].values\n",
    "Somewhat_Malignant_dro = loaded_accuracies[loaded_accuracies['subtype'] == 'Somewhat Malignant']['GDROLoss'].values\n",
    "\n",
    "print(Average(Somewhat_Malignant_erm))\n",
    "print(report_CI(Somewhat_Malignant_erm))\n",
    "\n",
    "print(Average(Somewhat_Malignant_dro))\n",
    "print(report_CI(Somewhat_Malignant_dro))"
   ]
  },
  {
   "cell_type": "code",
   "execution_count": 18,
   "id": "ec28f429",
   "metadata": {},
   "outputs": [
    {
     "data": {
      "text/plain": [
       "True"
      ]
     },
     "execution_count": 18,
     "metadata": {},
     "output_type": "execute_result"
    }
   ],
   "source": [
    "stats.ttest_ind(Somewhat_Malignant_erm,Somewhat_Malignant_dro)[1] <= 0.05"
   ]
  },
  {
   "cell_type": "code",
   "execution_count": 19,
   "id": "ad58378f",
   "metadata": {},
   "outputs": [
    {
     "name": "stdout",
     "output_type": "stream",
     "text": [
      "0.9864096380865379\n",
      "(0.9785479228981508, 0.9942713532749254)\n",
      "0.989272042572156\n",
      "(0.9838440447926597, 0.9947000403516519)\n"
     ]
    }
   ],
   "source": [
    "Predominantly_Malignant_erm = loaded_accuracies[loaded_accuracies['subtype'] == 'Predominantly Malignant']['ERMLoss'].values\n",
    "Predominantly_Malignant_dro = loaded_accuracies[loaded_accuracies['subtype'] == 'Predominantly Malignant']['GDROLoss'].values\n",
    "\n",
    "print(Average(Predominantly_Malignant_erm))\n",
    "print(report_CI(Predominantly_Malignant_erm))\n",
    "\n",
    "print(Average(Predominantly_Malignant_dro))\n",
    "print(report_CI(Predominantly_Malignant_dro))"
   ]
  },
  {
   "cell_type": "code",
   "execution_count": 20,
   "id": "c19d90a6",
   "metadata": {},
   "outputs": [
    {
     "data": {
      "text/plain": [
       "False"
      ]
     },
     "execution_count": 20,
     "metadata": {},
     "output_type": "execute_result"
    }
   ],
   "source": [
    "stats.ttest_ind(Predominantly_Malignant_erm,Predominantly_Malignant_dro)[1] <= 0.05"
   ]
  },
  {
   "cell_type": "code",
   "execution_count": null,
   "id": "01e55023",
   "metadata": {},
   "outputs": [],
   "source": []
  },
  {
   "cell_type": "code",
   "execution_count": null,
   "id": "f663fc21",
   "metadata": {},
   "outputs": [],
   "source": []
  }
 ],
 "metadata": {
  "kernelspec": {
   "display_name": "Python 3 (ipykernel)",
   "language": "python",
   "name": "python3"
  },
  "language_info": {
   "codemirror_mode": {
    "name": "ipython",
    "version": 3
   },
   "file_extension": ".py",
   "mimetype": "text/x-python",
   "name": "python",
   "nbconvert_exporter": "python",
   "pygments_lexer": "ipython3",
   "version": "3.7.13"
  }
 },
 "nbformat": 4,
 "nbformat_minor": 5
}
